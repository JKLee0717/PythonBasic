{
 "cells": [
  {
   "cell_type": "markdown",
   "metadata": {},
   "source": [
    "Lab02 - Exercise1.\n",
    "======"
   ]
  },
  {
   "cell_type": "markdown",
   "metadata": {},
   "source": [
    "## Let's Do It\n",
    "이제까지 진행한 실습파일을 참고하여 직접 코딩해보도록 하겠습니다."
   ]
  },
  {
   "cell_type": "markdown",
   "metadata": {},
   "source": [
    "### 해보기0.\n",
    "가장 먼저 우리가 사용할 라이브러리를 import합니다.  \n",
    "이번 실습에서는 pandas와 numpy를 사용하겠습니다."
   ]
  },
  {
   "cell_type": "code",
   "execution_count": null,
   "metadata": {},
   "outputs": [],
   "source": [
    "# numpy 라이브러리 import\n",
    "# pandas 라이브러리 import"
   ]
  },
  {
   "cell_type": "markdown",
   "metadata": {},
   "source": [
    "### Answer0."
   ]
  },
  {
   "cell_type": "code",
   "execution_count": null,
   "metadata": {},
   "outputs": [],
   "source": [
    "import numpy as np\n",
    "import pandas as pd"
   ]
  },
  {
   "cell_type": "markdown",
   "metadata": {},
   "source": [
    "<br>"
   ]
  },
  {
   "cell_type": "markdown",
   "metadata": {},
   "source": [
    "### 해보기1.\n",
    "data 폴더에 있는 movie.txt 파일을 읽어옵니다.  \n",
    "movie.txt 파일은 '|'을 구분자로 구분되어있는 파일입니다.  \n",
    "movie.txt 파일에서 앞에서 세개의 열(movie_id, title, date)을 불러옵니다."
   ]
  },
  {
   "cell_type": "code",
   "execution_count": null,
   "metadata": {},
   "outputs": [],
   "source": [
    "movie_file =  # 파일위치/파일이름\n",
    "movie_cols =  # 리스트로 열 이름 생성\n",
    "movies =  #pd.read_table(불러올 파일, sep='구분자', header=None, names=열 이름, usecols=[사용할 열의 index])"
   ]
  },
  {
   "cell_type": "markdown",
   "metadata": {},
   "source": [
    "### Answer1."
   ]
  },
  {
   "cell_type": "code",
   "execution_count": null,
   "metadata": {},
   "outputs": [],
   "source": [
    "movie_file = 'data/movie.txt'\n",
    "movie_cols = ['movie_id', 'title', 'date']\n",
    "movies = pd.read_table(movie_file, sep='|', header=None, names=movie_cols, usecols=[0, 1,2])\n",
    "movies.head()"
   ]
  },
  {
   "cell_type": "code",
   "execution_count": null,
   "metadata": {},
   "outputs": [],
   "source": [
    "movies.head()"
   ]
  },
  {
   "cell_type": "code",
   "execution_count": null,
   "metadata": {},
   "outputs": [],
   "source": [
    "# 영화 개봉연도 column 추가하기\n",
    "movies['date'] = pd.to_datetime(movies['date'])\n",
    "movies['year']=movies['date'].dt.year"
   ]
  },
  {
   "cell_type": "code",
   "execution_count": null,
   "metadata": {
    "scrolled": false
   },
   "outputs": [],
   "source": [
    "movies.describe()"
   ]
  },
  {
   "cell_type": "markdown",
   "metadata": {},
   "source": [
    "<br>"
   ]
  },
  {
   "cell_type": "markdown",
   "metadata": {},
   "source": [
    "### 해보기2.\n"
   ]
  },
  {
   "cell_type": "markdown",
   "metadata": {},
   "source": [
    "1990년에 개봉한 영화들의 DataFrame을 선언합니다."
   ]
  },
  {
   "cell_type": "code",
   "execution_count": null,
   "metadata": {},
   "outputs": [],
   "source": [
    "movies_1990 = # boolean indexing을 사용합니다."
   ]
  },
  {
   "cell_type": "code",
   "execution_count": null,
   "metadata": {},
   "outputs": [],
   "source": [
    "movies_1990['title']= # 제목에서 패턴을 보고 substring 합니다.\n",
    "movies_1990"
   ]
  },
  {
   "cell_type": "markdown",
   "metadata": {},
   "source": [
    "### Answer2."
   ]
  },
  {
   "cell_type": "code",
   "execution_count": null,
   "metadata": {},
   "outputs": [],
   "source": [
    "movies_1990 = movies[movies.year == 1990]"
   ]
  },
  {
   "cell_type": "markdown",
   "metadata": {},
   "source": [
    "date라는 column의 의미가 없으므로 삭제합니다."
   ]
  },
  {
   "cell_type": "code",
   "execution_count": null,
   "metadata": {
    "scrolled": true
   },
   "outputs": [],
   "source": [
    "del movies_1990['date']\n",
    "movies_1990"
   ]
  },
  {
   "cell_type": "markdown",
   "metadata": {},
   "source": [
    "개봉연도에 대한 column을 추가되어있므로 title에 나와있는 개봉연도는 의미가 없습니다. 따라서 title에서의 개봉연도를 제거합니다."
   ]
  },
  {
   "cell_type": "code",
   "execution_count": null,
   "metadata": {},
   "outputs": [],
   "source": [
    "movies_1990['title']= movies['title'].str[:-6]\n",
    "movies_1990"
   ]
  },
  {
   "cell_type": "markdown",
   "metadata": {},
   "source": [
    "<br>"
   ]
  },
  {
   "cell_type": "markdown",
   "metadata": {},
   "source": [
    "### 해보기3.\n",
    "  \n",
    "영화에 대한 평점이 기록된 데이터 파일 'movie_rating.txt'를 불러옵니다.  \n",
    "movie_rating.txt 파일은 tab(\\t)으로 구분된 파일입니다.  \n",
    "movie_rating.txt는 네개의 열(user_id, movie_id, rating, timestamp)을 갖고 있습니다."
   ]
  },
  {
   "cell_type": "code",
   "execution_count": null,
   "metadata": {},
   "outputs": [],
   "source": [
    "rating_file =\n",
    "rating_cols =\n",
    "ratings ="
   ]
  },
  {
   "cell_type": "markdown",
   "metadata": {},
   "source": [
    "### Answer3."
   ]
  },
  {
   "cell_type": "code",
   "execution_count": null,
   "metadata": {
    "scrolled": false
   },
   "outputs": [],
   "source": [
    "rating_file = 'data/movie_rating.txt'\n",
    "rating_cols = ['user_id', 'movie_id', 'rating', 'timestamp']\n",
    "ratings = pd.read_table(rating_file, sep='\\t', header=None, names=rating_cols)\n",
    "ratings.head()"
   ]
  },
  {
   "cell_type": "markdown",
   "metadata": {},
   "source": [
    "<br>"
   ]
  },
  {
   "cell_type": "markdown",
   "metadata": {},
   "source": [
    "### 해보기4.\n"
   ]
  },
  {
   "cell_type": "markdown",
   "metadata": {},
   "source": [
    "**movies** 와 **ratings** 에서 사용하지 않는 열을 제거하고 의미 없는 부분들을 정제합니다.  \n",
    "- title에서의 개봉연도를 제거합니다.\n",
    "- 개봉일 column을 제거합니다.\n",
    "- timestamp column을 제거합니다."
   ]
  },
  {
   "cell_type": "code",
   "execution_count": null,
   "metadata": {},
   "outputs": [],
   "source": [
    "# title substring\n",
    "# delete date column\n",
    "# delete timestamp column"
   ]
  },
  {
   "cell_type": "markdown",
   "metadata": {},
   "source": [
    " \n",
    "영화에 대한 평점 DataFrame(ratings)과 영화에 대한 정보 DataFrame(movies)을 병합합니다."
   ]
  },
  {
   "cell_type": "code",
   "execution_count": null,
   "metadata": {},
   "outputs": [],
   "source": [
    "movie_ratings = "
   ]
  },
  {
   "cell_type": "code",
   "execution_count": null,
   "metadata": {},
   "outputs": [],
   "source": [
    "movies.head()"
   ]
  },
  {
   "cell_type": "markdown",
   "metadata": {},
   "source": [
    "### Answer4."
   ]
  },
  {
   "cell_type": "code",
   "execution_count": null,
   "metadata": {},
   "outputs": [],
   "source": [
    "movies.title = movies.title.str[:-6]\n",
    "del movies['date']\n",
    "del ratings['timestamp']"
   ]
  },
  {
   "cell_type": "code",
   "execution_count": null,
   "metadata": {
    "scrolled": true
   },
   "outputs": [],
   "source": [
    "movie_ratings = pd.merge(movies, ratings, on='movie_id') #pd.merge(movies,ratings)\n",
    "movie_ratings.head()"
   ]
  },
  {
   "cell_type": "markdown",
   "metadata": {},
   "source": [
    "<br>"
   ]
  },
  {
   "cell_type": "markdown",
   "metadata": {},
   "source": [
    "### 해보기5.  \n",
    "영화별로 평균 평점,중간 평점, 최대 평점과 최소 평점을 구해봅니다."
   ]
  },
  {
   "cell_type": "code",
   "execution_count": null,
   "metadata": {},
   "outputs": [],
   "source": [
    "by_title =  #그룹화 함수에서 as_index = False 로 주기!!\n",
    "by_title.agg(\n",
    "    #평균 평점, 중간 평점, 최대 평점, 최소 평점\n",
    ")"
   ]
  },
  {
   "cell_type": "markdown",
   "metadata": {},
   "source": [
    "### Answer5."
   ]
  },
  {
   "cell_type": "code",
   "execution_count": null,
   "metadata": {
    "scrolled": true
   },
   "outputs": [],
   "source": [
    "by_title = movie_ratings.groupby('title',as_index=False)\n",
    "by_title.agg({\n",
    "    \"rating\":[\n",
    "        (\"평균 평점\",np.mean),\n",
    "        (\"중간 평점\", np.median),\n",
    "        (\"최대 평점\",np.max),\n",
    "        (\"최소 평점\",np.min)\n",
    "    ]\n",
    "})"
   ]
  },
  {
   "cell_type": "markdown",
   "metadata": {},
   "source": [
    "<br>"
   ]
  },
  {
   "cell_type": "markdown",
   "metadata": {},
   "source": [
    "### 해보기6. (난이도 ★★★)"
   ]
  },
  {
   "cell_type": "markdown",
   "metadata": {},
   "source": [
    "**'movies'** DataFrame에 각 영화에 대한 평균 평점을 계산한 열을 추가합니다."
   ]
  },
  {
   "cell_type": "code",
   "execution_count": null,
   "metadata": {},
   "outputs": [],
   "source": [
    "mean_rate = # 각 영화에 대한 평균 평점을 계산합니다."
   ]
  },
  {
   "cell_type": "markdown",
   "metadata": {},
   "source": [
    "※ 주의 ※  \n",
    "mean_rate.columns를 확인해보면 MultiIndex임을 확인할 수 있습니다.  \n",
    "우리가 필요로 하는 것은 mean_rate의 알맹이 즉, mean_rate.values 입니다."
   ]
  },
  {
   "cell_type": "code",
   "execution_count": null,
   "metadata": {
    "scrolled": true
   },
   "outputs": [],
   "source": [
    "print(mean_rate.columns)\n",
    "print('\\n')\n",
    "print(mean_rate.values)"
   ]
  },
  {
   "cell_type": "markdown",
   "metadata": {},
   "source": [
    "이제까지 배운 병합 함수는 DataFrame과 DataFrame간의 병합이었습니다.  \n",
    "그렇다면  mean_rate의 알맹이를 병합하기 위해서 적절하게 바꾸는 것이 관건입니다."
   ]
  },
  {
   "cell_type": "code",
   "execution_count": null,
   "metadata": {},
   "outputs": [],
   "source": [
    "movies_rate = # 영화 DataFrame과 각 영화의 평균 평점 DataFrame을 병합합니다.\n",
    "\n",
    "\n",
    "print(movies.shape)\n",
    "print(movies_rate.shape)"
   ]
  },
  {
   "cell_type": "markdown",
   "metadata": {},
   "source": [
    "### Answer6."
   ]
  },
  {
   "cell_type": "code",
   "execution_count": null,
   "metadata": {},
   "outputs": [],
   "source": [
    "mean_rate = by_title.aggregate({\n",
    "    'rating':[np.mean]\n",
    "})"
   ]
  },
  {
   "cell_type": "code",
   "execution_count": null,
   "metadata": {
    "scrolled": true
   },
   "outputs": [],
   "source": [
    "mean_rate.values"
   ]
  },
  {
   "cell_type": "code",
   "execution_count": null,
   "metadata": {},
   "outputs": [],
   "source": [
    "movies_mean_rate = pd.DataFrame(mean_rate.values,columns=['title','mean_rate'])\n",
    "movies_mean_rate.head()"
   ]
  },
  {
   "cell_type": "code",
   "execution_count": null,
   "metadata": {
    "scrolled": false
   },
   "outputs": [],
   "source": [
    "movies_rate = pd.merge(movies,movies_mean_rate)\n",
    "\n",
    "print(movies.shape)\n",
    "print(movies_rate.shape)"
   ]
  },
  {
   "cell_type": "code",
   "execution_count": null,
   "metadata": {
    "scrolled": true
   },
   "outputs": [],
   "source": [
    "movies_rate.head()"
   ]
  },
  {
   "cell_type": "code",
   "execution_count": null,
   "metadata": {},
   "outputs": [],
   "source": []
  }
 ],
 "metadata": {
  "kernelspec": {
   "display_name": "samsung",
   "language": "python",
   "name": "samsung"
  },
  "language_info": {
   "codemirror_mode": {
    "name": "ipython",
    "version": 3
   },
   "file_extension": ".py",
   "mimetype": "text/x-python",
   "name": "python",
   "nbconvert_exporter": "python",
   "pygments_lexer": "ipython3",
   "version": "3.6.7"
  }
 },
 "nbformat": 4,
 "nbformat_minor": 2
}
