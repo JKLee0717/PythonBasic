{
 "cells": [
  {
   "cell_type": "markdown",
   "metadata": {},
   "source": [
    "# Lab 01\n",
    "# Python Basic 03"
   ]
  },
  {
   "cell_type": "markdown",
   "metadata": {},
   "source": [
    "# 1. 함수"
   ]
  },
  {
   "cell_type": "markdown",
   "metadata": {},
   "source": [
    "함수를 설명하기 전에 믹서를 생각해 봅시다. 우리는 믹서에 과일을 넣습니다. 그리고 믹서를 사용해서 과일을 갈아 과일 주스를 만듭니다. 우리가 믹서에 넣는 과일은 \"입력\"이 되고 과일 주스는 \"출력(결괏값)\"이 됩니다.<br><br>\n",
    "\n",
    "그렇다면 믹서는 무엇일까요?<br>\n",
    "<img src='./image/03_01.JPG'><br><br>\n",
    "믹서는 과일을 입력받아 주스를 출력하는 함수와 같습니다.<br><br>\n",
    "우리가 배우려는 함수가 바로 믹서와 비슷합니다. 입력값을 가지고 어떤 일을 수행한 다음에 그 결과물을 내어놓는 것, 이것이 바로 함수가 하는 일입니다."
   ]
  },
  {
   "cell_type": "markdown",
   "metadata": {},
   "source": [
    "## 함수를 사용하는 이유\n",
    "반복되는 코드에 이름을 붙여서 반복적인 사용을 할 수 있기 때문입니다.\n",
    "#### <함수의 구조>\n",
    "<h3>\n",
    "<pre>\n",
    "def 함수명(매개변수):\n",
    "    수행할 문장\n",
    "        ...\n",
    "</pre>\n",
    "</h3>"
   ]
  },
  {
   "cell_type": "markdown",
   "metadata": {},
   "source": [
    "def는 함수를 만들 때 사용하는 예약어이며, 함수 이름은 임의로 만들 수 있습니다. 함수 이름 뒤 괄호 안의 매개변수는 이 함수에 입력으로 전달되는 값을 받는 변수입니다. 이렇게 함수를 정의한 다음 if, while, for문 등과 마찬가지로 함수에서 수행할 문장을 입력합니다."
   ]
  },
  {
   "cell_type": "markdown",
   "metadata": {},
   "source": [
    "'두 값을 입력받아서 더하는 함수'를 만들어 보겠습니다"
   ]
  },
  {
   "cell_type": "code",
   "execution_count": 2,
   "metadata": {},
   "outputs": [
    {
     "data": {
      "text/plain": [
       "12"
      ]
     },
     "execution_count": 2,
     "metadata": {},
     "output_type": "execute_result"
    }
   ],
   "source": [
    "def add(a, b): \n",
    "    return a + b\n",
    "\n",
    "add(5,7)"
   ]
  },
  {
   "cell_type": "markdown",
   "metadata": {},
   "source": [
    "## 매개변수와 인수"
   ]
  },
  {
   "cell_type": "markdown",
   "metadata": {},
   "source": [
    "매개변수(parameter)와 인수(arguments)는 혼용해서 사용되는 헷갈리는 용어이므로 잘 기억해 둡시다. 매개변수는 함수에 입력으로 전달된 값을 받는 변수를 의미하고 인수는 함수를 호출할 때 전달하는 입력값을 의미합니다."
   ]
  },
  {
   "cell_type": "code",
   "execution_count": 3,
   "metadata": {},
   "outputs": [
    {
     "name": "stdout",
     "output_type": "stream",
     "text": [
      "7\n"
     ]
    }
   ],
   "source": [
    "def add(a, b):  # a, b는 매개변수\n",
    "    return a+b\n",
    "\n",
    "print(add(3, 4))  # 3, 4는 인수"
   ]
  },
  {
   "cell_type": "markdown",
   "metadata": {},
   "source": [
    "## 입력값과 결괏값에 따른 함수의 형태\n",
    "함수는 들어온 입력값을 받아 어떤 처리를 하여 적절한 결괏값을 돌려줍니다.<br>\n",
    "<img src='./image/03_02.JPG'>"
   ]
  },
  {
   "cell_type": "markdown",
   "metadata": {},
   "source": [
    "## 일반적인 함수\n",
    "'두 값을 입력받아서 더하는 함수'를 만들어 보겠습니다"
   ]
  },
  {
   "cell_type": "code",
   "execution_count": 43,
   "metadata": {},
   "outputs": [
    {
     "data": {
      "text/plain": [
       "12"
      ]
     },
     "execution_count": 43,
     "metadata": {},
     "output_type": "execute_result"
    }
   ],
   "source": [
    "def add(a, b): \n",
    "    return a + b\n",
    "\n",
    "add(5,7)"
   ]
  },
  {
   "cell_type": "markdown",
   "metadata": {},
   "source": [
    "## 입력값이 없는 함수"
   ]
  },
  {
   "cell_type": "code",
   "execution_count": 4,
   "metadata": {},
   "outputs": [
    {
     "data": {
      "text/plain": [
       "'안녕하세요'"
      ]
     },
     "execution_count": 4,
     "metadata": {},
     "output_type": "execute_result"
    }
   ],
   "source": [
    "def say(): \n",
    "    return '안녕하세요'\n",
    "\n",
    "say()"
   ]
  },
  {
   "cell_type": "markdown",
   "metadata": {},
   "source": [
    "## 결과값이 없는 함수"
   ]
  },
  {
   "cell_type": "code",
   "execution_count": 7,
   "metadata": {},
   "outputs": [
    {
     "name": "stdout",
     "output_type": "stream",
     "text": [
      "4, 9의 합은 13입니다.\n"
     ]
    }
   ],
   "source": [
    "def add(a, b): \n",
    "    print(\"%d, %d의 합은 %d입니다.\" % (a, b, a+b))\n",
    "\n",
    "# 결괏값이 없는 함수는 호출해도 돌려주는 값이 없기 때문에 다음과 같이 사용\n",
    "add(4, 9)"
   ]
  },
  {
   "cell_type": "markdown",
   "metadata": {},
   "source": [
    "## 입력값도 결과값도 없는 함수"
   ]
  },
  {
   "cell_type": "code",
   "execution_count": 1,
   "metadata": {},
   "outputs": [
    {
     "name": "stdout",
     "output_type": "stream",
     "text": [
      "안녕?\n"
     ]
    }
   ],
   "source": [
    "def say(): \n",
    "    print('안녕?')\n",
    "    \n",
    "# 이 함수는 다음과 같이 사용하는 방법 밖에 없다. (함수명으로 호출)\n",
    "say()"
   ]
  },
  {
   "cell_type": "markdown",
   "metadata": {},
   "source": [
    "## 실습\n",
    "판매한 금액의 3%를 인센티브로 출력하는 함수를 만드세요."
   ]
  },
  {
   "cell_type": "code",
   "execution_count": null,
   "metadata": {},
   "outputs": [],
   "source": []
  },
  {
   "cell_type": "markdown",
   "metadata": {},
   "source": [
    "## 입력값의 개수를 모를때\n",
    "<h3>\n",
    "<pre>\n",
    "def 함수이름(*매개변수): \n",
    "    수행할 문장\n",
    "        ...\n",
    "</pre>\n",
    "</h3>"
   ]
  },
  {
   "cell_type": "markdown",
   "metadata": {},
   "source": [
    "위와 같은 방식을 이용하여 여러 개의 입력값을 모두 더하는 함수를 만들어 봅시다."
   ]
  },
  {
   "cell_type": "code",
   "execution_count": 2,
   "metadata": {},
   "outputs": [
    {
     "name": "stdout",
     "output_type": "stream",
     "text": [
      "6\n"
     ]
    }
   ],
   "source": [
    "def add_many(*args): \n",
    "    result = 0 \n",
    "    for i in args: \n",
    "        result = result + i \n",
    "    return result \n",
    "\n",
    "\n",
    "result = add_many(1,2,3)\n",
    "print(result)"
   ]
  },
  {
   "cell_type": "markdown",
   "metadata": {},
   "source": [
    "## 함수의 결과값은 언제나 하나"
   ]
  },
  {
   "cell_type": "code",
   "execution_count": 3,
   "metadata": {},
   "outputs": [
    {
     "data": {
      "text/plain": [
       "(16, 55)"
      ]
     },
     "execution_count": 3,
     "metadata": {},
     "output_type": "execute_result"
    }
   ],
   "source": [
    "def add_and_mul(a,b): \n",
    "    return a+b, a*b\n",
    "\n",
    "add_and_mul(11,5)"
   ]
  },
  {
   "cell_type": "markdown",
   "metadata": {},
   "source": [
    "### 이 하나의 튜플 값을 2개의 결괏값처럼 받고 싶다면"
   ]
  },
  {
   "cell_type": "code",
   "execution_count": 4,
   "metadata": {},
   "outputs": [
    {
     "name": "stdout",
     "output_type": "stream",
     "text": [
      "7 12\n"
     ]
    }
   ],
   "source": [
    "result1, result2 = add_and_mul(3, 4)\n",
    "\n",
    "print(result1, result2)"
   ]
  },
  {
   "cell_type": "markdown",
   "metadata": {},
   "source": [
    "## 2. 파이썬 내장 함수\n",
    "파이썬에서는 자주 사용되는 함수를 내장 함수(Built-in Functions)라는 이름으로 기본적으로 제공합니다. 예를 들어, 절댓값을 구하거나 원소의 개수를 세는 것과 같은 함수가 내장 함수에 해당합니다. <br>\n",
    "몇가지 대표적인 내장함수를 알아보도록 하겠습니다.\n",
    "### 01) abs()\n",
    "어떤 숫자를 입력받았을 때, 그 숫자의 절댓값을 돌려주는 함수입니다."
   ]
  },
  {
   "cell_type": "code",
   "execution_count": 18,
   "metadata": {},
   "outputs": [
    {
     "data": {
      "text/plain": [
       "3"
      ]
     },
     "execution_count": 18,
     "metadata": {},
     "output_type": "execute_result"
    }
   ],
   "source": [
    "abs(-3)"
   ]
  },
  {
   "cell_type": "markdown",
   "metadata": {},
   "source": [
    "### 02) chr()\n",
    "아스키(ASCII) 코드 값을 입력받아 그 코드에 해당하는 문자를 출력하는 함수입니다.\n",
    "* ※ 아스키 코드란 0에서 127 사이의 숫자를 각각 하나의 문자 또는 기호에 대응시켜 놓은 것."
   ]
  },
  {
   "cell_type": "code",
   "execution_count": 19,
   "metadata": {},
   "outputs": [
    {
     "data": {
      "text/plain": [
       "'a'"
      ]
     },
     "execution_count": 19,
     "metadata": {},
     "output_type": "execute_result"
    }
   ],
   "source": [
    "chr(97)"
   ]
  },
  {
   "cell_type": "markdown",
   "metadata": {},
   "source": [
    "### 03) enumerate()\n",
    "enumerate는 \"열거하다\"라는 뜻입니다. 이 함수는 순서가 있는 자료형(리스트, 튜플, 문자열)을 입력으로 받아 인덱스 값을 포함하는 enumerate 객체를 돌려줍니다."
   ]
  },
  {
   "cell_type": "code",
   "execution_count": 20,
   "metadata": {},
   "outputs": [
    {
     "name": "stdout",
     "output_type": "stream",
     "text": [
      "0 body\n",
      "1 foo\n",
      "2 bar\n"
     ]
    }
   ],
   "source": [
    "for i, name in enumerate(['body', 'foo', 'bar']):\n",
    "    print(i, name)"
   ]
  },
  {
   "cell_type": "markdown",
   "metadata": {},
   "source": [
    "* 위 예제와 같이 enumerate를 for문과 함께 사용하면 자료형의 현재 순서(index)와 그 값을 쉽게 알 수 있다."
   ]
  },
  {
   "cell_type": "markdown",
   "metadata": {},
   "source": [
    "### 04) eval()\n",
    "실행 가능한 문자열(1+2, 'hi' + 'a' 같은 것)을 입력으로 받아 문자열을 실행한 결괏값을 돌려주는 함수입니다."
   ]
  },
  {
   "cell_type": "code",
   "execution_count": 23,
   "metadata": {},
   "outputs": [
    {
     "data": {
      "text/plain": [
       "'HelloWorld'"
      ]
     },
     "execution_count": 23,
     "metadata": {},
     "output_type": "execute_result"
    }
   ],
   "source": [
    "eval(\"'Hello' + 'World'\")"
   ]
  },
  {
   "cell_type": "markdown",
   "metadata": {},
   "source": [
    "### 05) hex()\n",
    "정수 값을 입력받아 16진수(hexadecimal)로 변환하여 돌려주는 함수입니다."
   ]
  },
  {
   "cell_type": "code",
   "execution_count": 24,
   "metadata": {},
   "outputs": [
    {
     "data": {
      "text/plain": [
       "'0xea'"
      ]
     },
     "execution_count": 24,
     "metadata": {},
     "output_type": "execute_result"
    }
   ],
   "source": [
    "hex(234)"
   ]
  },
  {
   "cell_type": "markdown",
   "metadata": {},
   "source": [
    "### 05) map()\n",
    "map(f, iterable)은 함수(f)와 반복 가능한(iterable) 자료형을 입력으로 받습니다. map은 입력받은 자료형의 각 요소를 함수 f가 수행한 결과를 묶어서 돌려주는 함수입니다."
   ]
  },
  {
   "cell_type": "code",
   "execution_count": null,
   "metadata": {},
   "outputs": [],
   "source": [
    "def two_times(numberList):\n",
    "    result = [ ]\n",
    "    for number in numberList:\n",
    "        result.append(number*2)\n",
    "    return result\n",
    "\n",
    "result = two_times([1, 2, 3, 4])\n",
    "print(result)"
   ]
  },
  {
   "cell_type": "code",
   "execution_count": null,
   "metadata": {},
   "outputs": [],
   "source": [
    "def two_times(x): \n",
    "     return x*2\n",
    "\n",
    "list(map(two_times, [1, 2, 3, 4]))"
   ]
  },
  {
   "cell_type": "markdown",
   "metadata": {},
   "source": [
    "* to_times 함수는 리스트 요소를 입력받아 각 요소에 2를 곱한 결괏값을 돌려준다."
   ]
  },
  {
   "cell_type": "markdown",
   "metadata": {},
   "source": [
    "### 06) max()\n",
    " 수로 반복 가능한 자료형을 입력받아 그 최댓값을 돌려주는 함수입니다."
   ]
  },
  {
   "cell_type": "code",
   "execution_count": 27,
   "metadata": {},
   "outputs": [
    {
     "data": {
      "text/plain": [
       "24"
      ]
     },
     "execution_count": 27,
     "metadata": {},
     "output_type": "execute_result"
    }
   ],
   "source": [
    " max([11, 7, 24])"
   ]
  },
  {
   "cell_type": "markdown",
   "metadata": {},
   "source": [
    "### 07) min()\n",
    "인수로 반복 가능한 자료형을 입력받아 그 최솟값을 돌려주는 함수입니다."
   ]
  },
  {
   "cell_type": "code",
   "execution_count": 29,
   "metadata": {},
   "outputs": [
    {
     "data": {
      "text/plain": [
       "12"
      ]
     },
     "execution_count": 29,
     "metadata": {},
     "output_type": "execute_result"
    }
   ],
   "source": [
    "min([31, 12, 27])"
   ]
  },
  {
   "cell_type": "markdown",
   "metadata": {},
   "source": [
    "### 08) round()\n",
    "숫자를 입력받아 반올림해 주는 함수입니다."
   ]
  },
  {
   "cell_type": "code",
   "execution_count": 30,
   "metadata": {},
   "outputs": [
    {
     "data": {
      "text/plain": [
       "5"
      ]
     },
     "execution_count": 30,
     "metadata": {},
     "output_type": "execute_result"
    }
   ],
   "source": [
    "round(4.6)"
   ]
  },
  {
   "cell_type": "markdown",
   "metadata": {},
   "source": [
    "### 09) sum()\n",
    "입력받은 리스트나 튜플의 모든 요소의 합을 돌려주는 함수입니다."
   ]
  },
  {
   "cell_type": "code",
   "execution_count": 31,
   "metadata": {},
   "outputs": [
    {
     "data": {
      "text/plain": [
       "15"
      ]
     },
     "execution_count": 31,
     "metadata": {},
     "output_type": "execute_result"
    }
   ],
   "source": [
    "sum((4,5,6))"
   ]
  },
  {
   "cell_type": "markdown",
   "metadata": {},
   "source": [
    "### 10) zip()\n",
    "동일한 개수로 이루어진 자료형을 묶어 주는 역할을 하는 함수입니다."
   ]
  },
  {
   "cell_type": "code",
   "execution_count": 32,
   "metadata": {},
   "outputs": [
    {
     "data": {
      "text/plain": [
       "[('a', 'd'), ('b', 'e'), ('c', 'f')]"
      ]
     },
     "execution_count": 32,
     "metadata": {},
     "output_type": "execute_result"
    }
   ],
   "source": [
    "list(zip(\"abc\", \"def\"))"
   ]
  },
  {
   "cell_type": "markdown",
   "metadata": {},
   "source": [
    "# 실습"
   ]
  },
  {
   "cell_type": "markdown",
   "metadata": {},
   "source": [
    "크기 비교 함수를 만듭니다.  \n",
    "해당 데이터가 인자로 받은 값보다 더 크거나 같은 경우 경우 True를 반환하고, 그렇지 않은 경우 False를 반환합니다."
   ]
  },
  {
   "cell_type": "code",
   "execution_count": null,
   "metadata": {},
   "outputs": [],
   "source": [
    "def greater(x,y):\n",
    "    # 조건문을 사용하여 x가 y보다 크면 True를 반환하고 그렇지 않으면 False를 반환하도록 합니다."
   ]
  },
  {
   "cell_type": "code",
   "execution_count": 15,
   "metadata": {},
   "outputs": [],
   "source": [
    "def greater(x, y):\n",
    "    if x >= y:\n",
    "        return True\n",
    "    else:\n",
    "        return False"
   ]
  },
  {
   "cell_type": "markdown",
   "metadata": {},
   "source": [
    "크기 비교 함수를 사용하여 최대값을 구하는 함수를 만듭니다."
   ]
  },
  {
   "cell_type": "code",
   "execution_count": 38,
   "metadata": {},
   "outputs": [],
   "source": [
    "def get_max(#리스트를 입력받습니다.):\n",
    "    max_value = #입력받은 리스트의 첫번째 값으로 초기화합니다.\n",
    "    # for문을 사용하여 리스트의 첫번째 원소부터 마지막 원소까지 비교합니다.\n",
    "        # 이전의 실습에서 만든 greater()함수를 사용하여 max_value와 i 번째 리스트의 값을 비교합니다.\n",
    "        # max_value보다 크지 않을 경우 pass하고 max_value보다 큰 경우 max_value의 값을 업데이트합니다.\n",
    "    #for문이 마치면 max_value를 반환합니다."
   ]
  },
  {
   "cell_type": "code",
   "execution_count": 16,
   "metadata": {
    "scrolled": false
   },
   "outputs": [],
   "source": [
    "def get_max(data_list):\n",
    "    max_value = data_list[0]\n",
    "    for i in range(0,len(data_list)) :\n",
    "            if greater(max_value,data_list[i]) == True:\n",
    "                pass\n",
    "            else:\n",
    "                max_value = data_list[i]\n",
    "    return max_value"
   ]
  },
  {
   "cell_type": "code",
   "execution_count": 17,
   "metadata": {},
   "outputs": [
    {
     "data": {
      "text/plain": [
       "100"
      ]
     },
     "execution_count": 17,
     "metadata": {},
     "output_type": "execute_result"
    }
   ],
   "source": [
    "a=[2,100,7,44,90,5,3]\n",
    "get_max(a)"
   ]
  },
  {
   "cell_type": "markdown",
   "metadata": {},
   "source": [
    "## 3. lambda\n",
    "lambda는 쓰고 버리는 일시적인 함수 입니다. 함수가 생성된 곳에서만 필요합니다. 즉, 간단한 기능을 일반적인 함수와 같이 정의해두고 쓰는 것이 아니고 필요한 곳에서 즉시 사용하고 버릴 수 있습니다.\n",
    "#### < lambda 구조>\n",
    "### lambda 인자 : 표현식"
   ]
  },
  {
   "cell_type": "code",
   "execution_count": null,
   "metadata": {},
   "outputs": [],
   "source": [
    "g = lambda x: x**2\n",
    "g(8)"
   ]
  },
  {
   "cell_type": "markdown",
   "metadata": {},
   "source": [
    "람다 정의에는 \"return\"문이 포함되어 있지 않습니다. 반환값을 만드는 표현식이 있습니다. 함수가 사용될 수 있는 곳에는 어디라도 람다 정의를 넣을 수 있으며, 위의 예 처럼 변수에 할당하여 사용할 필요는 없습니다.<br>\n",
    "다음은 람다 함수의 사용법을 보여줍니다."
   ]
  },
  {
   "cell_type": "code",
   "execution_count": null,
   "metadata": {},
   "outputs": [],
   "source": [
    "def inc(n):\n",
    "    return lambda x: x + n\n",
    "\n",
    "a = inc(2)\n",
    "b = inc(6)\n",
    "\n",
    "print(a(4))\n",
    "print(b(7))"
   ]
  },
  {
   "cell_type": "markdown",
   "metadata": {},
   "source": [
    "람다 함수의 장점은 map() 함수와 함께 사용될 때 볼 수 있습니다."
   ]
  },
  {
   "cell_type": "code",
   "execution_count": null,
   "metadata": {},
   "outputs": [],
   "source": [
    "a = [1,2,3,4]\n",
    "b = [17,12,11,10]\n",
    "\n",
    "list(map(lambda x, y:x+y, a,b))"
   ]
  },
  {
   "cell_type": "code",
   "execution_count": null,
   "metadata": {},
   "outputs": [],
   "source": [
    "list(map(lambda x: x ** 2, range(5)))"
   ]
  },
  {
   "cell_type": "markdown",
   "metadata": {},
   "source": [
    " ### filter()\n",
    " ### r = filter(function, iterable)\n",
    "filter에 인자로 사용되는 function은 처리되는 각각의 요소에 대해 Boolean 값을 반환합니다. True를 반환하면 그 요소는 남게 되고, False 를 반환하면 그 요소는 제거 됩니다"
   ]
  },
  {
   "cell_type": "code",
   "execution_count": null,
   "metadata": {},
   "outputs": [],
   "source": [
    "foo = [2, 18, 9, 22, 17, 24, 8, 12, 27]\n",
    "list( filter(lambda x: x % 3 == 0, foo) )"
   ]
  },
  {
   "cell_type": "markdown",
   "metadata": {},
   "source": [
    "## 4. 객체지향\n",
    "객체 지향 프로그래밍은 어떤 사물이나 물체에 대한 속성들이 모여서 새로운 하나의 시스템을 구성하고 이러한 시스템은 기존에 구성한 물체들을 쉽게 추가하거나 뺄수 있습니다.<br>\n",
    "이러한 기법은 클래스와 상속을 이용하여 소프트웨어의 재사용성을 높이고 소프트웨어의 개발과 관리를 쉽게 합니다.\n",
    "## 01) 클래스(Class)와 객체(object)\n",
    "<img src='./image/03_03.JPG'>\n",
    "클래스(class)는 객체(object)를 정의하는 틀이며, 객체는 클래스라는 틀에서 생겨난 실체(instance)입니다. <br>\n",
    "클래스로 만든 객체에는 중요한 특징이 있습니다. 바로 객체마다 고유한 성격을 가진다는 것입니다. 붕어빵 틀로 만든 붕어빵에 구멍을 뚫거나 조금 베어 먹더라도 다른 붕어빵에는 아무 영향이 없는 것과 마찬가지로 동일한 클래스로 만든 객체들은 서로 전혀 영향을 주지 않습니다."
   ]
  },
  {
   "cell_type": "code",
   "execution_count": null,
   "metadata": {},
   "outputs": [],
   "source": [
    "class Singer:                     \n",
    "     def sing(self):             \n",
    "            return \"Lalala~\""
   ]
  },
  {
   "cell_type": "markdown",
   "metadata": {},
   "source": [
    "클래스를 만들 때는 위와 같이 'class 클래스이름: '형식으로 시작해서 그 다음부터 그 클래스의 성질이나 행동을 정의해주면 됩니다. 둘째 줄에는 함수가 정의되어 있죠? 이와 같이 클래스 내부에 정의된 함수를 메서드(method)라고 부릅니다.여기서 sing 메서드는 Singer라는 클래스가 하는 행동을 정의하고 있습니다. "
   ]
  },
  {
   "cell_type": "code",
   "execution_count": null,
   "metadata": {},
   "outputs": [],
   "source": [
    "ArianaGrande = Singer()\n",
    "ArianaGrande.sing()"
   ]
  },
  {
   "cell_type": "markdown",
   "metadata": {},
   "source": [
    "Singer 클래스를 만든 다음에는 ArianaGrandei라는 객체를 만들었습니다. <strong>인스턴스명 = 클래스()</strong>와 같이 만들면 됩니다.<br> 그 다음엔 그렇게 만들어진 ArianaGrandei에게 노래를 시켜봤습니다. Singer 클래스에 sing 메서드를 정의해줬기 때문에 Singer 클래스에 속한 ArianaGrandei 객체도 sing 메서드를 사용할 수 있습니다. <br> 이와 같이 어떤 객체의 메서드를 사용할 때는 <strong>객체.메서드</strong> 형식으로 해주시면 됩니다."
   ]
  },
  {
   "cell_type": "markdown",
   "metadata": {},
   "source": [
    "## 실습\n",
    "이번엔 같은 방법으로 ricky 객체를 만들어서 노래를 청해보세요."
   ]
  },
  {
   "cell_type": "code",
   "execution_count": null,
   "metadata": {},
   "outputs": [],
   "source": []
  },
  {
   "cell_type": "markdown",
   "metadata": {},
   "source": [
    "## 2. 변수와 메서드\n",
    "실제 세계에 존재하는 실체(instance)를 객체(object)라고 하고, 객체들의 공통점을 간추려서 개념적으로 나타낸 것이 클래스(class)라고 했습니다. 어떤 클래스를 만드려면 그 객체가 갖는 성질과 그 객체가 하는 행동을 정의해주면 됩니다.<br>디아블로2 게임의 아마존이라는 캐릭터를 클래스로 표현해 볼까요?"
   ]
  },
  {
   "cell_type": "code",
   "execution_count": null,
   "metadata": {},
   "outputs": [],
   "source": [
    "class Amazon:\n",
    "    strength = 20\n",
    "    dexterity = 25\n",
    "    vitality = 20\n",
    "    energy = 15\n",
    "\n",
    "    def attack(self):\n",
    "        return 'Jab!!!'"
   ]
  },
  {
   "cell_type": "markdown",
   "metadata": {},
   "source": [
    "아마존 클래스가 갖고 있는 힘, 기술, 체력, 에너지라는 네 가지 성질은 변수로, '공격'하는 행동은 메서드로 나타내었습니다. Amazon 클래스의 객체로 jane 캐릭터와 mary 캐릭터를 만들어 봅시다."
   ]
  },
  {
   "cell_type": "code",
   "execution_count": null,
   "metadata": {},
   "outputs": [],
   "source": [
    "jane = Amazon()\n",
    "mary = Amazon()"
   ]
  },
  {
   "cell_type": "markdown",
   "metadata": {},
   "source": [
    "jane과 mary는 둘 다 Amazon으로서 정의한 속성을 모두 갖추고 있겠죠? 그렇다면 jane의 힘도, 공격하는 행동도 Amazon 클래스에서 정의한 그대로일 것입니다."
   ]
  },
  {
   "cell_type": "code",
   "execution_count": null,
   "metadata": {},
   "outputs": [],
   "source": [
    "print(jane.strength)\n",
    "jane.attack()"
   ]
  },
  {
   "cell_type": "markdown",
   "metadata": {},
   "source": [
    "이렇게 객체는 클래스에서 정의해준 변수와 메서드를 그대로 갖게 됩니다. \n",
    "## 3. 생성자(Constructor)\n",
    "객체가 생성될 때 자동으로 호출되는 메서드를 의미합니다. 파이썬 메서드 이름으로 \\_\\_init__를 사용하면 이 메서드는 생성자가 됩니다."
   ]
  },
  {
   "cell_type": "code",
   "execution_count": null,
   "metadata": {},
   "outputs": [],
   "source": [
    "class temp1:\n",
    "    def __init__(self):\n",
    "        print(\"객체가 생성되었습니다.\")"
   ]
  },
  {
   "cell_type": "code",
   "execution_count": null,
   "metadata": {},
   "outputs": [],
   "source": [
    "a = temp1()"
   ]
  },
  {
   "cell_type": "markdown",
   "metadata": {},
   "source": [
    "###   \\_\\_del__ 메서드 (소멸자)\n",
    "\\_\\_init__ 메서드와 반대로 객체가 없어질 때 호출되는 메서드도 있습니다. 이런 것을 소멸자(destructor)라고 하는데, 파이썬에서는 \\_\\_del__ 메서드가 소멸자의 역할을 맡고 있습니다."
   ]
  },
  {
   "cell_type": "code",
   "execution_count": null,
   "metadata": {},
   "outputs": [],
   "source": [
    "class temp2:\n",
    "    def __init__(self):\n",
    "        print(\"객체가 생성되었습니다.\")\n",
    "    def __del__(self):\n",
    "        print(\"객체가 소멸되었습니다.\")"
   ]
  },
  {
   "cell_type": "code",
   "execution_count": null,
   "metadata": {},
   "outputs": [],
   "source": [
    "b = temp2()"
   ]
  },
  {
   "cell_type": "markdown",
   "metadata": {},
   "source": [
    "## 4. 상속(inheritance)\n",
    "어떤 클래스가 다른 클래스의 성질을 물려받는 것을 말합니다.<br>\n",
    "클래스를 만들 때 처음부터 모든 것을 새로 만들 필요 없이, 핵심적인 성질을 갖고 있는 다른 클래스로부터 상속을 받아서 조금만 손을 보면 기존의 클래스를 재사용하여 새로운 클래스를 생성할 수 있습니다."
   ]
  },
  {
   "cell_type": "code",
   "execution_count": null,
   "metadata": {},
   "outputs": [],
   "source": [
    "class Parents:\n",
    "    lastName = 'LEE'\n",
    "    county = 'Korea'\n",
    "    hometown = 'Daejeon'\n",
    "    \n",
    "    def eat(self):\n",
    "        print('얌냠...')\n",
    "\n",
    "    def sleep(self):\n",
    "        print('쿨쿨...')\n"
   ]
  },
  {
   "cell_type": "markdown",
   "metadata": {},
   "source": [
    "위의 Parents이라는 클래스는 성(姓)과 국가, 고향을 가지고 있고 먹고 자기도 합니다. <br>\n",
    "이번에는 자식 클래스를 위의 클래스를 이용하여 만들어 봅시다.\n",
    "* ### self\n",
    "self라는 것은 바로 그 클래스의 객체를 가리킵니다. 한 마디로 메서드를 정의할 때는 항상 self라는 인자를 써준다고 생각하시면 됩니다.\n",
    "* ### 오버라이딩 (overriding)\n",
    "부모 클래스의 를 자식 클래스에서 재정의 하는 것입니다."
   ]
  },
  {
   "cell_type": "code",
   "execution_count": null,
   "metadata": {},
   "outputs": [],
   "source": [
    "class Child1(Parents):\n",
    "    lastName ='MinJi'\n",
    "    age = '17'\n",
    "    \n",
    "    def study(self):\n",
    "        print('공부...')"
   ]
  },
  {
   "cell_type": "markdown",
   "metadata": {},
   "source": [
    "위의 Child1 클래스는 Parents 클래스를 상속받았습니다. 우리가 Minji 클래스에 성(姓)과 국가, 고향를 하나하나 다시 만들어 주지 않더라도 Parents의 성질들을 모두 물려받아서 갖게 된 것이죠. 우리는 여기에 study라는 메쏘드만 하나 더 써주어서 마무리를 했습니다."
   ]
  },
  {
   "cell_type": "markdown",
   "metadata": {},
   "source": [
    "그럼, 과연 Child1 클래스가 Parents 클래스의 모든 성질을 똑같이 갖고 있는 것인지도 확인해 보도록 하겠습니다."
   ]
  },
  {
   "cell_type": "code",
   "execution_count": null,
   "metadata": {},
   "outputs": [],
   "source": [
    "lee = Parents()\n",
    "lee.eat()"
   ]
  },
  {
   "cell_type": "code",
   "execution_count": null,
   "metadata": {},
   "outputs": [],
   "source": [
    "Minji = Child1()\n",
    "\n",
    "Minji.eat()\n",
    "Minji.study()\n",
    "Minji.age"
   ]
  },
  {
   "cell_type": "markdown",
   "metadata": {},
   "source": [
    "## 실습\n",
    "다음은 Calculator 클래스입니다. 위 클래스를 상속하는 UpgradeCalculator를 만들고 값을 뺄 수 있는 minus 메서드를 추가해 보세요."
   ]
  },
  {
   "cell_type": "code",
   "execution_count": null,
   "metadata": {},
   "outputs": [],
   "source": [
    "class Calculator:\n",
    "    def __init__(self):\n",
    "        self.value = 0\n",
    "\n",
    "    def add(self, val):\n",
    "        self.value += val"
   ]
  },
  {
   "cell_type": "code",
   "execution_count": null,
   "metadata": {},
   "outputs": [],
   "source": [
    "class UpgradeCalculator(Calculator):\n",
    "    def minus(self, val):\n",
    "        self.value -= val"
   ]
  },
  {
   "cell_type": "markdown",
   "metadata": {},
   "source": [
    "다음을 동작하는 클래스를 만드시면 됩니다."
   ]
  },
  {
   "cell_type": "code",
   "execution_count": null,
   "metadata": {},
   "outputs": [],
   "source": [
    "cal = UpgradeCalculator()\n",
    "cal.add(10)\n",
    "cal.minus(7)\n",
    "\n",
    "print(cal.value) # 10에서 7을 뺀 3을 출력"
   ]
  }
 ],
 "metadata": {
  "kernelspec": {
   "display_name": "samsung",
   "language": "python",
   "name": "samsung"
  },
  "language_info": {
   "codemirror_mode": {
    "name": "ipython",
    "version": 3
   },
   "file_extension": ".py",
   "mimetype": "text/x-python",
   "name": "python",
   "nbconvert_exporter": "python",
   "pygments_lexer": "ipython3",
   "version": "3.6.7"
  }
 },
 "nbformat": 4,
 "nbformat_minor": 2
}
