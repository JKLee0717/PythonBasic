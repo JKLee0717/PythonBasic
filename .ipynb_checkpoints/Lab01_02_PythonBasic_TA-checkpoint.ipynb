{
 "cells": [
  {
   "cell_type": "markdown",
   "metadata": {},
   "source": [
    "# Lab 01\n",
    "# Python Basic 02"
   ]
  },
  {
   "cell_type": "markdown",
   "metadata": {},
   "source": [
    "# 1. 연산자\n",
    "## 01) 비교 연산자\n",
    "비교를 할 때 사용 되는 연산자로, 비교의 결과는 참(True)과 거짓(False)이 됩니다. <br>\n",
    "<table>\n",
    "    <tr>\n",
    "        <td>연산기호</td>\n",
    "        <td>의미</td>\n",
    "    </tr>\n",
    "    <tr>\n",
    "        <td>==</td>\n",
    "        <td>왼쪽과 오른쪽이 같은 지 비교</td>\n",
    "    </tr>\n",
    "    <tr>\n",
    "        <td>!=</td>\n",
    "        <td>왼쪽과 오른쪽이 다른 지 비교</td>\n",
    "    </tr>\n",
    "    <tr>\n",
    "        <td>></td>\n",
    "        <td>왼쪽이 더 큰 지 비교</td>\n",
    "    </tr>\n",
    "    <tr>\n",
    "        <td><</td>\n",
    "        <td>오른쪽이 더 큰 지 비교</td>\n",
    "    </tr>\n",
    "    <tr>\n",
    "        <td>>=</td>\n",
    "        <td>왼쪽이 더 크거나 같은 지 비교</td>\n",
    "    </tr>\n",
    "    <tr>\n",
    "        <td><=</td>\n",
    "        <td>오른쪽이 더 크거나 같은 지 비교</td>\n",
    "    </tr>\n",
    "</table>"
   ]
  },
  {
   "cell_type": "code",
   "execution_count": 1,
   "metadata": {},
   "outputs": [
    {
     "name": "stdout",
     "output_type": "stream",
     "text": [
      "True\n",
      "False\n",
      "True\n",
      "False\n",
      "True\n",
      "True\n"
     ]
    }
   ],
   "source": [
    "print(1 < 2)\n",
    "print(1 > 2)\n",
    "print(1 == 1)\n",
    "print(1 != 1)\n",
    "print(4 <= 6)\n",
    "print(5 <= 5)"
   ]
  },
  {
   "cell_type": "markdown",
   "metadata": {},
   "source": [
    "## 02) 논리 연산자\n",
    "파이썬의 논리 연산자에는 and, or, not이 있습니다.\n",
    "<table>\n",
    "    <tr>\n",
    "        <td>연산</td>\n",
    "        <td>의미</td>\n",
    "    </tr>\n",
    "    <tr>\n",
    "        <td>and</td>\n",
    "        <td>둘 다 True일 때에만 True</td>\n",
    "    </tr>\n",
    "    <tr>\n",
    "        <td>or</td>\n",
    "        <td>한 쪽이라도 True면 True</td>\n",
    "    </tr>\n",
    "    <tr>\n",
    "        <td>not</td>\n",
    "        <td>True면 False, False면 True</td>\n",
    "    </tr>\n",
    "</table>"
   ]
  },
  {
   "cell_type": "code",
   "execution_count": 2,
   "metadata": {},
   "outputs": [
    {
     "name": "stdout",
     "output_type": "stream",
     "text": [
      "False\n"
     ]
    }
   ],
   "source": [
    "height = 176\n",
    "age = 28\n",
    "\n",
    "print(height > 180 and age > 10)"
   ]
  },
  {
   "cell_type": "markdown",
   "metadata": {},
   "source": [
    "### 코드블록\n",
    "> 코드 블록은 특정한 동작을 위해서 코드가 모여있는 상태를 뜻하며, 파이썬은 들여쓰기를 기준으로 코드 블록을 구성합니다.\n",
    "### 들여쓰기\n",
    "> 들여쓰기는 코드의 가독성을 위해 일정한 간격을 띄워서 작성하는 방법입니다. 특히, 파이썬은 들여쓰기 자체가 문법입니다.\n",
    ">\n",
    "> 들여쓰기 방법은 공백(스페이스) 4칸, 탭(tab) 등 여러가지 방법이 있습니다.\n",
    "> \n",
    "> * 탭(tab) 1칸 = 공백(스페이스) 4칸"
   ]
  },
  {
   "cell_type": "markdown",
   "metadata": {},
   "source": [
    "# 2. 조건문\n",
    "\n",
    "## 01) if 문\n",
    "#### <if문의 기본 구조>\n",
    "\n",
    "<h3>\n",
    "<pre>\n",
    "if 조건문:\n",
    "    수행할 문장\n",
    "        ...\n",
    "</pre>\n",
    "</h3>"
   ]
  },
  {
   "cell_type": "markdown",
   "metadata": {},
   "source": [
    "조건이 참인지 거짓인지 판단합니다. <br>주어진 조건이 참일 경우 코드블럭을 실행하고, 거짓일 경우 코드블럭을 넘어갑니다. 이해를 돕기위해 아래와 같은 조건문의 예시를 들어보겠습니다. <br><br>\n",
    "\"수박 한통이 20,000원 이하이면 수박을 구매한다.\"<br>\n",
    "\"수박 한통이 20,000원 이상이면 수박을 구매하지 않는다.\"\n",
    "예시로 사용한 문장을 파이썬으로 표현을 해보겠습니다."
   ]
  },
  {
   "cell_type": "code",
   "execution_count": 3,
   "metadata": {},
   "outputs": [
    {
     "name": "stdout",
     "output_type": "stream",
     "text": [
      "수박을 구매한다.\n"
     ]
    }
   ],
   "source": [
    "watermelon = 17000\n",
    "\n",
    "if watermelon <= 20000:\n",
    "    print(\"수박을 구매한다.\")\n",
    "if watermelon >= 20000:\n",
    "    print(\"수박을 구매하지 않는다.\")"
   ]
  },
  {
   "cell_type": "markdown",
   "metadata": {},
   "source": [
    "## 02) if ~ else 문\n",
    "#### <if ~ else문의 구조>\n",
    "<h3>\n",
    "<pre>\n",
    "if 조건문:\n",
    "    수행할 문장\n",
    "        ...\n",
    "else:\n",
    "    수행할 문장\n",
    "        ...\n",
    "</pre>\n",
    "</h3>"
   ]
  },
  {
   "cell_type": "markdown",
   "metadata": {},
   "source": [
    "if ~ else 문을 이용하면 if 문 뒤에 존재하는 조건식이 참이냐 거짓이냐에 따라 그림과 같이 두 개의 코드 블록 중 하나를 실행할 수 있습니다.\n",
    "<img src='./image/02_01.JPG'>"
   ]
  },
  {
   "cell_type": "markdown",
   "metadata": {},
   "source": [
    "위에 들었던 예시 문장을 if ~ else 문을 사용해서 표현해 보겠습니다."
   ]
  },
  {
   "cell_type": "code",
   "execution_count": 4,
   "metadata": {},
   "outputs": [
    {
     "name": "stdout",
     "output_type": "stream",
     "text": [
      "수박을 구매한다.\n"
     ]
    }
   ],
   "source": [
    "if watermelon <= 20000:\n",
    "    print(\"수박을 구매한다.\")\n",
    "    \n",
    "else:\n",
    "    print(\"수박을 구매하지 않는다.\")"
   ]
  },
  {
   "cell_type": "markdown",
   "metadata": {},
   "source": [
    "## 03) if ~ elif ~ else 문\n",
    "#### <if ~ elif ~ else문의 구조>\n",
    "<h3>\n",
    "<pre>\n",
    "if 조건:\n",
    "    수행할 문장\n",
    "        ...\n",
    "elif 조건:\n",
    "    수행할 문장\n",
    "        ...\n",
    "else:\n",
    "    수행할 문장\n",
    "        ...\n",
    "</pre>\n",
    "</h3>"
   ]
  },
  {
   "cell_type": "markdown",
   "metadata": {},
   "source": [
    "elif문에 if문의 조건이 아닌 다른 조건을 주어서 해당 조건이 참이면 실행하고, 거짓이면 else문을 수행합니다."
   ]
  },
  {
   "cell_type": "code",
   "execution_count": 5,
   "metadata": {},
   "outputs": [
    {
     "name": "stdout",
     "output_type": "stream",
     "text": [
      "당신이 홍길동이군요.\n"
     ]
    }
   ],
   "source": [
    "name = '홍길동'\n",
    "\n",
    "if name == '홍길동':\n",
    "    print('당신이 홍길동이군요.')\n",
    "elif name == '김길동':\n",
    "    print('당신이 김길동이군요.')\n",
    "else:\n",
    "    print('당신은 누구시죠?')"
   ]
  },
  {
   "cell_type": "markdown",
   "metadata": {},
   "source": [
    "## 실습\n",
    "orange의 크기에 따라 대,중,소 분류를 하는 조건문을 만들기<br>\n",
    "조건1. 크기가 8이상이면 '대'<br>\n",
    "조건2. 크기가 4 이하이면 '소'<br>\n",
    "조건3. 나머지는 '중'<br>"
   ]
  },
  {
   "cell_type": "code",
   "execution_count": 6,
   "metadata": {},
   "outputs": [
    {
     "name": "stdout",
     "output_type": "stream",
     "text": [
      "중\n"
     ]
    }
   ],
   "source": [
    "orange = 6\n",
    "\n",
    "if orange >= 8:\n",
    "    print('대')\n",
    "elif orange <= 4:\n",
    "    print('소')\n",
    "else:\n",
    "    print('중')"
   ]
  },
  {
   "cell_type": "markdown",
   "metadata": {},
   "source": [
    "# 3. 반복문\n",
    "반복해서 문장을 수행해야 할 경우 사용하는 구문입니다."
   ]
  },
  {
   "cell_type": "markdown",
   "metadata": {},
   "source": [
    "## 01) while문\n",
    "while문은 조건문이 참인 동안에 while문 아래의 문장이 반복해서 수행됩니다.\n",
    "#### <if ~ elif ~ else문의 구조>\n",
    "<h3>\n",
    "<pre>\n",
    "while 조건문:\n",
    "    수행할 문장\n",
    "    ...\n",
    "</pre>\n",
    "</h3>"
   ]
  },
  {
   "cell_type": "markdown",
   "metadata": {},
   "source": [
    "\"열 번 찍어 안 넘어가는 나무 없다\"는 속담을 while문을 이용해서 표현해 보겠습니다."
   ]
  },
  {
   "cell_type": "code",
   "execution_count": 7,
   "metadata": {},
   "outputs": [
    {
     "name": "stdout",
     "output_type": "stream",
     "text": [
      "나무를 1번 찍었습니다.\n",
      "나무를 2번 찍었습니다.\n",
      "나무를 3번 찍었습니다.\n",
      "나무를 4번 찍었습니다.\n",
      "나무를 5번 찍었습니다.\n",
      "나무를 6번 찍었습니다.\n",
      "나무를 7번 찍었습니다.\n",
      "나무를 8번 찍었습니다.\n",
      "나무를 9번 찍었습니다.\n",
      "나무를 10번 찍었습니다.\n",
      "나무가 넘어갔습니다.\n"
     ]
    }
   ],
   "source": [
    "count = 0\n",
    "    \n",
    "while count < 10:\n",
    "    count = count +1\n",
    "    print(\"나무를 %d번 찍었습니다.\" % count)\n",
    "    if count == 10:\n",
    "        print(\"나무가 넘어갔습니다.\")"
   ]
  },
  {
   "cell_type": "markdown",
   "metadata": {},
   "source": [
    "위 예에서 while문의 조건문은 count < 10 입니다.. 즉 count가 10보다 작은 동안에 while문 안의 문장을 계속 수행합니다. whlie문 안의 문장을 보면 제일 먼저 count = count + 1로 count 값이 계속 1씩 증가하게 됩니다. 그리고 나무를 count번만큼 찍었음을 알리는 문장을 출력하고 count가 10이 되면 \"나무가 넘어갔습니다.\"라는 문장을 출력한다. 그러고 나면 ount < 10 조건문이 거짓이 되므로 while문을 빠져나가게 됩니다."
   ]
  },
  {
   "cell_type": "markdown",
   "metadata": {},
   "source": [
    "## while문 강제로 빠져나가기\n",
    "while문은 조건문이 참인 동안 계속해서 while문 안의 내용을 반복적으로 수행합니다. 하지만 강제로 while문을 빠져나가고 싶을 때가 있습니다.(ex. 무한 루프에 빠졌을때 혹은 원하는 값에 도달했을때 등.) 이럴때 사용하는 것이 바로 break문 입니다."
   ]
  },
  {
   "cell_type": "markdown",
   "metadata": {},
   "source": [
    "## 01-1) break문"
   ]
  },
  {
   "cell_type": "markdown",
   "metadata": {},
   "source": [
    "예를 들어 인터넷 쇼핑몰을 생각해봅시다. 판매하는 상품의 재고가 충분히 있을 때에는 구매가 가능합니다. 고객들이 상품 구매에 만족을 하기 위해서는 재고가 얼마 남았는지 항상 검사해야 합니다. 만약 재고가 모두 소진 되었다면, 판매를 중단하고 '품절'이라는 문구를 고객에게 보여주어야 합니다.<br><br>\n",
    "이를 while문과 break문을 이용하여 표현해 보겠습니다."
   ]
  },
  {
   "cell_type": "code",
   "execution_count": 12,
   "metadata": {},
   "outputs": [
    {
     "name": "stdout",
     "output_type": "stream",
     "text": [
      "돈을 받았으니 주문을 완료합니다.\n",
      "남은 상품의 재고는 4개 입니다.\n",
      "돈을 받았으니 주문을 완료합니다.\n",
      "남은 상품의 재고는 3개 입니다.\n",
      "돈을 받았으니 주문을 완료합니다.\n",
      "남은 상품의 재고는 2개 입니다.\n",
      "돈을 받았으니 주문을 완료합니다.\n",
      "남은 상품의 재고는 1개 입니다.\n",
      "돈을 받았으니 주문을 완료합니다.\n",
      "남은 상품의 재고는 0개 입니다.\n",
      "재고가 떨어졌습니다. 상품이 품절되었습니다.\n"
     ]
    }
   ],
   "source": [
    "stock = 5\n",
    "money = 5000\n",
    "\n",
    "while money:\n",
    "    print(\"돈을 받았으니 주문을 완료합니다.\")\n",
    "    stock = stock -1\n",
    "    print(\"남은 상품의 재고는 %d개 입니다.\" % stock )\n",
    "    if stock == 0:\n",
    "        print(\"재고가 떨어졌습니다. 상품이 품절되었습니다.\")\n",
    "        break"
   ]
  },
  {
   "cell_type": "markdown",
   "metadata": {},
   "source": [
    "## while문의 맨 처음으로 돌아가기\n",
    "while문 안의 문장을 수행할 때 입력 조건을 검사해서 조건에 맞지 않으면 while문을 빠져나갑니다. 그런데 프로그래밍을 하다 보면 while문을 빠져나가지 않고 while문의 맨 처음(조건문)으로 다시 돌아가게 만들고 싶은 경우가 생기게 됩니다. 이때 사용하는 것이 바로 continue문 입니다."
   ]
  },
  {
   "cell_type": "markdown",
   "metadata": {},
   "source": [
    "## 01-2) continue문\n",
    "1부터 10까지의 숫자 중에서 홀수만 출력하는 것을 while문과 continue문을 사용해서 표현해 보겠습니다."
   ]
  },
  {
   "cell_type": "code",
   "execution_count": 14,
   "metadata": {},
   "outputs": [
    {
     "name": "stdout",
     "output_type": "stream",
     "text": [
      "1\n",
      "3\n",
      "5\n",
      "7\n",
      "9\n"
     ]
    }
   ],
   "source": [
    "a = 0\n",
    "\n",
    "while a < 10:\n",
    "    a = a + 1\n",
    "    if a % 2 == 0: continue\n",
    "    print(a)"
   ]
  },
  {
   "cell_type": "markdown",
   "metadata": {},
   "source": [
    "## 무한 루프\n",
    "무한 루프란 무한히 반복한다는 의미입니다. 파이썬에서 무한 루프는 while문으로 구현할 수 있습니다.\n",
    "<br>\n",
    "<h4><무한 루프의 기본 형태></h4>\n",
    "<h3>\n",
    "<pre>\n",
    "while True: \n",
    "\n",
    "     수행할 문장\n",
    "\n",
    "    ...\n",
    "</pre>\n",
    "</h3>"
   ]
  },
  {
   "cell_type": "markdown",
   "metadata": {},
   "source": [
    "## 02) for문\n"
   ]
  },
  {
   "cell_type": "markdown",
   "metadata": {},
   "source": [
    "while문과 비슷한 반복문인 for문은 매우 유용하고 문장 구조가 한눈에 쏙 들어온다는 장점이 있습니다.\n",
    "<h4>< for문의 기본 구조 ></h4>\n",
    "<h3>\n",
    "<pre>\n",
    "for 변수 in 리스트(또는 튜플, 문자열):\n",
    "    수행할 문장\n",
    "    ...\n",
    "</pre>\n",
    "</h3>"
   ]
  },
  {
   "cell_type": "markdown",
   "metadata": {},
   "source": [
    "리스트나 튜플, 문자열의 첫 번째 요소부터 마지막 요소까지 차례로 변수에 대입되어 \"수행할 문장\" 등이 수행됩니다."
   ]
  },
  {
   "cell_type": "code",
   "execution_count": 15,
   "metadata": {},
   "outputs": [
    {
     "name": "stdout",
     "output_type": "stream",
     "text": [
      "one\n",
      "two\n",
      "three\n"
     ]
    }
   ],
   "source": [
    "test_list = ['one', 'two', 'three'] \n",
    "\n",
    "for i in test_list: \n",
    "    print(i)"
   ]
  },
  {
   "cell_type": "markdown",
   "metadata": {},
   "source": [
    "### for문의 응용\n",
    "\"총 5명의 학생이 시험을 보았는데 시험 점수가 60점이 넘으면 합격이고 그렇지 않으면 불합격이다. 합격인지 불합격인지 결과를 보이시오.\""
   ]
  },
  {
   "cell_type": "code",
   "execution_count": 16,
   "metadata": {},
   "outputs": [
    {
     "name": "stdout",
     "output_type": "stream",
     "text": [
      "1번 학생은 합격입니다.\n",
      "2번 학생은 불합격입니다.\n",
      "3번 학생은 합격입니다.\n",
      "4번 학생은 불합격입니다.\n",
      "5번 학생은 합격입니다.\n"
     ]
    }
   ],
   "source": [
    "marks = [90, 25, 67, 45, 80]\n",
    "\n",
    "number = 0 \n",
    "for mark in marks: \n",
    "    number = number +1 \n",
    "    if mark >= 60: \n",
    "        print(\"%d번 학생은 합격입니다.\" % number)\n",
    "    else: \n",
    "        print(\"%d번 학생은 불합격입니다.\" % number)"
   ]
  },
  {
   "cell_type": "markdown",
   "metadata": {},
   "source": [
    "### for문과 continue\n",
    "while문에서 살펴본 continue문을 for문에서도 사용할 수 있습니다. 즉 for문 안의 문장을 수행하는 도중에 continue문을 만나면 for문의 처음으로 돌아가게 됩니다.<br><br>\n",
    "앞에서 for문 응용 예제를 그대로 사용해서 60점 이상인 사람에게는 축하 메시지를 보내고 나머지 사람에게는 아무 메시지도 전하지 않는 프로그램을 작성해보겠습니다."
   ]
  },
  {
   "cell_type": "code",
   "execution_count": 17,
   "metadata": {},
   "outputs": [
    {
     "name": "stdout",
     "output_type": "stream",
     "text": [
      "1번 학생 축하합니다. 합격입니다. \n",
      "3번 학생 축하합니다. 합격입니다. \n",
      "5번 학생 축하합니다. 합격입니다. \n"
     ]
    }
   ],
   "source": [
    "marks = [90, 25, 67, 45, 80]\n",
    "\n",
    "number = 0 \n",
    "for mark in marks: \n",
    "    number = number +1 \n",
    "    if mark < 60:\n",
    "        continue \n",
    "    print(\"%d번 학생 축하합니다. 합격입니다. \" % number)"
   ]
  },
  {
   "cell_type": "markdown",
   "metadata": {},
   "source": [
    "점수가 60점 이하인 학생일 경우에는 mark < 60이 참이 되어 continue문이 수행됩니다. 따라서 축하 메시지를 출력하는 부분인 print문을 수행하지 않고 for문의 처음으로 돌아가게 됩니다."
   ]
  },
  {
   "cell_type": "markdown",
   "metadata": {},
   "source": [
    "### 반복문을 한줄 단위로 출력하기\n",
    "print()문에 end옵션을 설정해주면 됩니다.. print( ,end='')를 사용하면 각 반복값을 공백으로 구분합니다.\n"
   ]
  },
  {
   "cell_type": "code",
   "execution_count": 43,
   "metadata": {},
   "outputs": [
    {
     "name": "stdout",
     "output_type": "stream",
     "text": [
      "12345"
     ]
    }
   ],
   "source": [
    "for i in range (1,6):\n",
    "    print(\"%d\" %i, end='')"
   ]
  },
  {
   "cell_type": "markdown",
   "metadata": {},
   "source": [
    "## 실습\n",
    "아래와 같은 패턴의 별(*)을 출력하는 프로그램을 작성해보세요.<br>\n",
    "<pre>\n",
    "*\n",
    "**\n",
    "***\n",
    "****\n",
    "*****\n",
    "</pre>"
   ]
  },
  {
   "cell_type": "code",
   "execution_count": 42,
   "metadata": {},
   "outputs": [
    {
     "name": "stdout",
     "output_type": "stream",
     "text": [
      "*\n",
      "**\n",
      "***\n",
      "****\n",
      "*****\n"
     ]
    }
   ],
   "source": [
    "for j in range(5):\n",
    "        for i in range(j+1):\n",
    "                print('*', end='')\n",
    "        print(\"\")"
   ]
  },
  {
   "cell_type": "markdown",
   "metadata": {},
   "source": [
    "## range() 함수\n",
    "for문과 함께 자주 사용되는 내장함수입니다. range(stop)은 0부터 stop 전까지의 숫자를 나열합니다.\n",
    "range(start, strop)는 start부터 stop 전까지의 숫자를 나열합니다."
   ]
  },
  {
   "cell_type": "code",
   "execution_count": 19,
   "metadata": {},
   "outputs": [
    {
     "name": "stdout",
     "output_type": "stream",
     "text": [
      "0\n",
      "1\n",
      "2\n"
     ]
    }
   ],
   "source": [
    "for n in range(3):\n",
    "    print(n)"
   ]
  },
  {
   "cell_type": "code",
   "execution_count": 20,
   "metadata": {},
   "outputs": [
    {
     "name": "stdout",
     "output_type": "stream",
     "text": [
      "4\n",
      "5\n"
     ]
    }
   ],
   "source": [
    "for n in range(4, 6):\n",
    "    print(n)"
   ]
  },
  {
   "cell_type": "markdown",
   "metadata": {},
   "source": [
    "for와 range 함수를 사용하면 1부터 10까지 더하는 것을 구현해보겠습니다."
   ]
  },
  {
   "cell_type": "code",
   "execution_count": 22,
   "metadata": {},
   "outputs": [
    {
     "name": "stdout",
     "output_type": "stream",
     "text": [
      "55\n"
     ]
    }
   ],
   "source": [
    "sum = 0 \n",
    "\n",
    "for i in range(1, 11): \n",
    "    sum = sum + i \n",
    "\n",
    "print(sum)"
   ]
  },
  {
   "cell_type": "markdown",
   "metadata": {},
   "source": [
    "### 실습\n",
    "A 학급에 총 10명의 학생이 있다. 이 학생들의 중간고사 점수는 다음과 같을때, for문을 사용하여 A 학급의 평균 점수를 구해 보자.<br>\n",
    "[70, 60, 55, 75, 95, 90, 80, 80, 85, 100]"
   ]
  },
  {
   "cell_type": "code",
   "execution_count": 23,
   "metadata": {},
   "outputs": [
    {
     "name": "stdout",
     "output_type": "stream",
     "text": [
      "79.0\n"
     ]
    }
   ],
   "source": [
    "A = [70, 60, 55, 75, 95, 90, 80, 80, 85, 100]\n",
    "total = 0\n",
    "\n",
    "for score in A:\n",
    "    total += score \n",
    "\n",
    "average = total / len(A)\n",
    "print(average) "
   ]
  },
  {
   "cell_type": "markdown",
   "metadata": {},
   "source": [
    "# 실습\n",
    "## 구구단(2단 ~ 9단) 출력하기"
   ]
  },
  {
   "cell_type": "code",
   "execution_count": 48,
   "metadata": {},
   "outputs": [
    {
     "name": "stdout",
     "output_type": "stream",
     "text": [
      "2 단\n",
      "2 4 6 8 10 12 14 16 18 \n",
      "3 단\n",
      "3 6 9 12 15 18 21 24 27 \n",
      "4 단\n",
      "4 8 12 16 20 24 28 32 36 \n",
      "5 단\n",
      "5 10 15 20 25 30 35 40 45 \n",
      "6 단\n",
      "6 12 18 24 30 36 42 48 54 \n",
      "7 단\n",
      "7 14 21 28 35 42 49 56 63 \n",
      "8 단\n",
      "8 16 24 32 40 48 56 64 72 \n",
      "9 단\n",
      "9 18 27 36 45 54 63 72 81 \n"
     ]
    }
   ],
   "source": [
    "for i in range(2,10):\n",
    "    print(i,'단')\n",
    "    for j in range(1, 10):   \n",
    "        print(i*j, end=\" \") \n",
    "    print('') "
   ]
  },
  {
   "cell_type": "markdown",
   "metadata": {},
   "source": [
    "## list comprehension\n",
    "기존 list를 사용하여 간단히 다른 list를 만드는 기법입니다. 포괄적인 list, 포함되는 리스트라는 의미로 사용됩니다. 파이썬에서 가장 많이 사용되는 기법 중 하나로 일반적인 for문 + append 보다 속도가 빠릅니다."
   ]
  },
  {
   "cell_type": "code",
   "execution_count": 1,
   "metadata": {},
   "outputs": [
    {
     "data": {
      "text/plain": [
       "[0, 1, 2, 3, 4, 5, 6, 7, 8, 9]"
      ]
     },
     "execution_count": 1,
     "metadata": {},
     "output_type": "execute_result"
    }
   ],
   "source": [
    "result = []\n",
    "\n",
    "for i in range(10):\n",
    "    result.append(i)\n",
    "\n",
    "result"
   ]
  },
  {
   "cell_type": "code",
   "execution_count": 2,
   "metadata": {},
   "outputs": [
    {
     "data": {
      "text/plain": [
       "[0, 1, 2, 3, 4, 5, 6, 7, 8, 9]"
      ]
     },
     "execution_count": 2,
     "metadata": {},
     "output_type": "execute_result"
    }
   ],
   "source": [
    "reqult = [ i for i in range(10)]\n",
    "result"
   ]
  },
  {
   "cell_type": "code",
   "execution_count": 8,
   "metadata": {},
   "outputs": [
    {
     "name": "stdout",
     "output_type": "stream",
     "text": [
      "[0, 2, 4, 6, 8]\n"
     ]
    }
   ],
   "source": [
    "result = [i for i in range(10) if i % 2 == 0]\n",
    "print(result)"
   ]
  },
  {
   "cell_type": "code",
   "execution_count": 5,
   "metadata": {},
   "outputs": [
    {
     "data": {
      "text/plain": [
       "['AD', 'AE', 'AF', 'BD', 'BE', 'BF', 'CD', 'CE', 'CF']"
      ]
     },
     "execution_count": 5,
     "metadata": {},
     "output_type": "execute_result"
    }
   ],
   "source": [
    "str1 = 'ABC'\n",
    "str2 = 'DEF'\n",
    "\n",
    "result = [ i+j for i in str1 for j in str2 ]\n",
    "result"
   ]
  },
  {
   "cell_type": "code",
   "execution_count": 7,
   "metadata": {},
   "outputs": [
    {
     "data": {
      "text/plain": [
       "['AD', 'AE', 'AF', 'BD', 'BE', 'BF', 'CD', 'CE', 'CF']"
      ]
     },
     "execution_count": 7,
     "metadata": {},
     "output_type": "execute_result"
    }
   ],
   "source": [
    "str1 = ['A','B','C']\n",
    "str2 = ['D', 'E', 'F']\n",
    "\n",
    "result = [i+j for i in str1 for j in str2 if not(i==j)]\n",
    "result"
   ]
  },
  {
   "cell_type": "markdown",
   "metadata": {},
   "source": [
    "## 실습\n",
    "range 함수와 list comprehension를 이용하여 2^0부터 2^10 까지의 수를 구하세요"
   ]
  },
  {
   "cell_type": "code",
   "execution_count": 15,
   "metadata": {},
   "outputs": [
    {
     "name": "stdout",
     "output_type": "stream",
     "text": [
      "[1, 2, 4, 8, 16, 32, 64, 128, 256, 512, 1024]\n"
     ]
    }
   ],
   "source": [
    "result = [2**n for n in range(11)]\n",
    "print(result)"
   ]
  }
 ],
 "metadata": {
  "kernelspec": {
   "display_name": "Python 3",
   "language": "python",
   "name": "python3"
  },
  "language_info": {
   "codemirror_mode": {
    "name": "ipython",
    "version": 3
   },
   "file_extension": ".py",
   "mimetype": "text/x-python",
   "name": "python",
   "nbconvert_exporter": "python",
   "pygments_lexer": "ipython3",
   "version": "3.6.8"
  }
 },
 "nbformat": 4,
 "nbformat_minor": 2
}
