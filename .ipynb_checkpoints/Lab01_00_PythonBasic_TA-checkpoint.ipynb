{
 "cells": [
  {
   "cell_type": "markdown",
   "metadata": {},
   "source": [
    "# Lab 01\n",
    "# Python Basic 00"
   ]
  },
  {
   "cell_type": "markdown",
   "metadata": {},
   "source": [
    "# 0. 소개"
   ]
  },
  {
   "cell_type": "code",
   "execution_count": null,
   "metadata": {},
   "outputs": [],
   "source": []
  },
  {
   "cell_type": "markdown",
   "metadata": {},
   "source": [
    "# 1. python 이란\n",
    "<img src='https://wikidocs.net/images/page/5/pahkey_KRRKrp.png'>\n",
    "파이썬은 프로그래밍 언어 중 하나로, 1990년 암스테르담의 귀도 반 로섬(Guido Van Rossum)이 개발한 인터프리터 언어입니다."
   ]
  },
  {
   "cell_type": "markdown",
   "metadata": {},
   "source": [
    "* 인터프리터 언어란 한 줄씩 소스 코드를 해석해서 그때그때 실행해 결과를 바로 확인할 수 있는 언어이다."
   ]
  },
  {
   "cell_type": "markdown",
   "metadata": {},
   "source": [
    "## 01) 파이썬의 특징\n",
    "1. 문법이 쉬워 빠르게 배울 수 있다.<br>\n",
    ": 파이썬은 문법 자체가 아주 쉽고 간결하며 사람의 사고 체계와 매우 닮아 있다.\n",
    "2. 무료이지만 강력하다.<br>\n",
    ": 오픈 소스인 파이썬은 당연히 무료이다. 사용료 걱정없이 언제 어디서든 파이썬을 다운로드하여 사용할 수 있다.\n",
    "3. 간결하다.<br>\n",
    ": 파이썬은 의도적으로 간결하게 만들졌다.\n",
    "4. 개발 속도가 빠르다.<br>"
   ]
  },
  {
   "cell_type": "markdown",
   "metadata": {},
   "source": [
    "# 2. Python 설치방법\n",
    "## 01) Python 공식 홈페이지에서 제공하는 파일 다운로드\n",
    "파이썬 공식 홈페이지(http://www.python.org)\n",
    "## 02) 베포판 파일 다운로드\n",
    "파이썬에는 패키지가 너무나도 많아서 필요한 패키지를 그때그때 내려받아서 직접 설치해야 합니다. 이러한 문제를 문제를 깔끔하게 해결하고자 배포판이라고 하는 설치 파일들이 등장했습니다.<br>\n",
    "우리는 여러 유용한 패키지까지 한 번에 설치할 수 있는‘아나콘다’라는 배포판을 이용할 것입니다."
   ]
  },
  {
   "cell_type": "markdown",
   "metadata": {},
   "source": [
    "## 02-1) 아나콘다 설치\n",
    "아나콘다는 Continuum Analytics라는 곳에서 만든 파이썬 배포판으로, 수백 개의 파이썬 패키지를 포함하고 있습니다. 또한 회사 내에서도 상업용으로 무료로 사용할 수 있다는 장점이 있습니다. <br>\n",
    " 파이썬은 현재 2.7 버전과 3.7 버전이 있는데, 우리는 파이썬 3.7을 사용합니다.\n",
    "\n",
    "https://www.anaconda.com/distribution\n",
    "\n",
    "<img src='https://wikidocs.net/images/page/2825/%EA%B7%B8%EB%A6%BC_1.3.png'><br><br>\n",
    "설치가 완료되면 anaconda prompt창에서 jupyter notebook 명령어를 입력하여 쥬피터 노트북을 실행합니다.\n",
    "<img src='https://t1.daumcdn.net/cfile/tistory/99B5BF335A2783E21B'> <br><br>\n",
    "쥬피터 노트북 창이 나오면 아래와 같이 New -> Ptrhon3을 클릭합니다. <br>\n",
    "<img src='https://t1.daumcdn.net/cfile/tistory/993C343359AD72AA08'> <br><br>\n",
    "출력문 print(\"Hello world!\")을 타이핑 후 Shift + Enter를 누르면 실행됩니다.\n",
    "<img src= 'https://t1.daumcdn.net/cfile/tistory/99E7653359AD731E0B'><br><br>\n",
    "h 키를 누르면 다양한 기능을 확인할 수 있습니다.\n",
    "<img src= 'https://t1.daumcdn.net/cfile/tistory/99B7CF3359AD73C826'> <br><br>\n",
    "* 상단의 + 버튼을 누르면 입력창이 추가됩니다."
   ]
  }
 ],
 "metadata": {
  "kernelspec": {
   "display_name": "Python 3",
   "language": "python",
   "name": "python3"
  },
  "language_info": {
   "codemirror_mode": {
    "name": "ipython",
    "version": 3
   },
   "file_extension": ".py",
   "mimetype": "text/x-python",
   "name": "python",
   "nbconvert_exporter": "python",
   "pygments_lexer": "ipython3",
   "version": "3.6.8"
  }
 },
 "nbformat": 4,
 "nbformat_minor": 2
}
