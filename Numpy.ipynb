{
 "cells": [
  {
   "cell_type": "markdown",
   "metadata": {},
   "source": [
    "Lab02\n",
    "======"
   ]
  },
  {
   "cell_type": "markdown",
   "metadata": {},
   "source": [
    "파이썬의 장점으로는 데이터 분석에 필요한 라이브러리가 풍부한 점을 들수 있습니다.\n",
    "이번 시간에는 파이썬 데이터 분석 도구로 유명한 numpy, pandas,matplotlib들에 대해 소개하고 사용해 보도록 하겠습니다."
   ]
  },
  {
   "cell_type": "markdown",
   "metadata": {},
   "source": [
    "# < Numpy>\n",
    "\n",
    "> Numerical Python을 의미하는 넘파이(Numpy)는 파이썬에서 선형대수 기반의 프로그램을 쉽게 만들 수 있도록 지원하는 대표적인 패키지입니다.  \n",
    "> Numpy는 고성능의 다차원 배열 객체와 이를 다루는 도구를 제공합니다.\n",
    "\n",
    "### < Numpy의 특징 >\n",
    "> - 과학적인 용도로 배열 연산에 강점이 있지만, 거기에 한정되지 않고 다차원 데이터의 저장 방법으로 사용될 수 있습니다.\n",
    "> - Numpy의 주요 객체는 동일한 자료형의 다차원 배열입니다.\n",
    "> - Numpy 배열은 동일한 자료형을 가지는 값들이 격자판 형태로 있는 것입니다. 각각의 값들은 튜플 형태로 색인됩니다. rank는 배열이 몇 차원인지를 의미합니다."
   ]
  },
  {
   "cell_type": "markdown",
   "metadata": {},
   "source": [
    "# Numpy\n",
    "- 패키지 사용 이전에 반드시 **import**해야 하는 것을 기억해주세요!\n",
    "- Numpy의 함수를 사용할 때마다 \"numpy\"를 적는 것이 귀찮기 때문에, 흔히들 \"**np**\"로 줄여서 import합니다.\n",
    "- 넘파이의 기반 데이터 타입은 ndarray입니다. ndarray를 이용해 넘파이에서 다차원(Multi-dimension) 배열을 쉽게 생성하고 다양한 연산을 수행할 수 있습니다."
   ]
  },
  {
   "cell_type": "code",
   "execution_count": 1,
   "metadata": {},
   "outputs": [],
   "source": [
    "import numpy as np"
   ]
  },
  {
   "cell_type": "markdown",
   "metadata": {},
   "source": [
    "## > Array(배열) 만들기 \n",
    "\n",
    "Numpy만의 특이한 data structure `array`\n",
    "- array는 numpy에서 제공하는 자료구조로, 파이썬의 list와 유사한 성격을 보입니다.\n",
    "- MATLAB, R에서의 벡터, 행렬 연산 인터페이스와 거의 같은 기능을 제공합니다."
   ]
  },
  {
   "cell_type": "markdown",
   "metadata": {},
   "source": [
    "넘파이 array() 함수는 파이썬 리스트와 같은 다양한 인자를 입력받아서 ndarray로 변환하는 기능을 수행합니다. 생성된 ndarray 배열의 shape 변수는 ndarray의 크기, 즉 행과 열의 수를 튜플 형태로 가지고 있으며 이를 통해 ndarray 배열의 차원까지 알 수 있습니다."
   ]
  },
  {
   "cell_type": "markdown",
   "metadata": {},
   "source": [
    "![Nparr](./image/nparr.jpg)"
   ]
  },
  {
   "cell_type": "code",
   "execution_count": 2,
   "metadata": {
    "scrolled": false
   },
   "outputs": [
    {
     "name": "stdout",
     "output_type": "stream",
     "text": [
      "[1 2 3 4]\n",
      "<class 'numpy.ndarray'>\n",
      "(4,)\n",
      "[[1 2 3]\n",
      " [4 5 6]]\n",
      "<class 'numpy.ndarray'>\n",
      "(2, 3)\n"
     ]
    }
   ],
   "source": [
    "# Rank = 1인 array\n",
    "a = np.array((1,2,3,4))\n",
    "print(a)\n",
    "print(type(a))\n",
    "print(a.shape)\n",
    "\n",
    "# Rank = 2인 array\n",
    "b = np.array([[1,2,3],[4,5,6]])\n",
    "print(b)\n",
    "print(type(b))\n",
    "print(b.shape)"
   ]
  },
  {
   "cell_type": "code",
   "execution_count": 3,
   "metadata": {
    "scrolled": false
   },
   "outputs": [
    {
     "name": "stdout",
     "output_type": "stream",
     "text": [
      "1 2\n",
      "[5 2 3 4]\n",
      "[1 2 3]\n",
      "3\n",
      "3\n",
      "[[1 2 7]\n",
      " [4 5 6]]\n"
     ]
    }
   ],
   "source": [
    "# array의 성분은 모두 index를 갖고 있습니다. 이를 이용하여 성분을 바꿀 수 있습니다.\n",
    "a = np.array([1,2,3,4])\n",
    "print(a[0], a[1])\n",
    "a[0] = 5 # array의 가장 첫 번째 성분을 5로 변경\n",
    "print(a)\n",
    "\n",
    "b = np.array([[1,2,3],[4,5,6]])\n",
    "print(b[0]) # b 배열의 첫 번째 행을 출력\n",
    "print(b[0][2]) # b 배열의 첫 번째 행, 세 번째 열의 값을 출력 (즉, 행렬의 (1,3) 성분)\n",
    "print(b[0,2])  # 위와 동일\n",
    "b[0,2] = 7\n",
    "print(b)"
   ]
  },
  {
   "cell_type": "code",
   "execution_count": 4,
   "metadata": {
    "scrolled": true
   },
   "outputs": [
    {
     "name": "stdout",
     "output_type": "stream",
     "text": [
      "[1. 2. 3. 4.]\n",
      "<class 'numpy.float64'>\n",
      "float64\n",
      "[1 2 3 4]\n",
      "<class 'numpy.int64'>\n",
      "int64\n"
     ]
    }
   ],
   "source": [
    "# array 성분의 type을 정의할 수 있습니다.\n",
    "a = np.array([1,2,3,4], float)\n",
    "print(a)\n",
    "print(type(a[0]))\n",
    "print(a.dtype)\n",
    "\n",
    "b = np.array([1,2,3,4], int)\n",
    "print(b)\n",
    "print(type(b[0]))\n",
    "print(b.dtype)"
   ]
  },
  {
   "cell_type": "code",
   "execution_count": 5,
   "metadata": {
    "scrolled": true
   },
   "outputs": [
    {
     "name": "stdout",
     "output_type": "stream",
     "text": [
      "1\n",
      "[1 2 3]\n",
      "[3 6]\n"
     ]
    }
   ],
   "source": [
    "# MATLAB, R과 유사한 인터페이스로 행렬의 성분들을 분해할 수 있습니다.\n",
    "a = np.array([[1,2,3,], [4,5,6]])\n",
    "print(a[0,0]) # a 행렬의 (1,1) 성분\n",
    "print(a[0,:]) # a 행렬의 첫 번째 행\n",
    "print(a[:,2]) # a 행렬의 세 번째 열"
   ]
  },
  {
   "cell_type": "code",
   "execution_count": 6,
   "metadata": {
    "scrolled": false
   },
   "outputs": [
    {
     "name": "stdout",
     "output_type": "stream",
     "text": [
      "[[1 2 3]\n",
      " [3 4 5]]\n",
      "(2, 3)\n",
      "First row: [1 2 3]\n",
      "Last row: [3 4 5]\n",
      "Specific row and col: 3\n",
      "Whole col: [3 5]\n"
     ]
    }
   ],
   "source": [
    "mylist = [[1, 2, 3], [3, 4, 5]]\n",
    "myarray = np.array(mylist)\n",
    "print(myarray)\n",
    "print(myarray.shape)\n",
    "print(\"First row: %s\" % myarray[0])\n",
    "print(\"Last row: %s\" % myarray[-1])\n",
    "print(\"Specific row and col: %s\" % myarray[0, 2])\n",
    "print(\"Whole col: %s\" % myarray[:,2])"
   ]
  },
  {
   "cell_type": "markdown",
   "metadata": {},
   "source": [
    "## 넘파이의 ndarray의 데이터 세트 선택하기 - 인덱싱(indexing)\n",
    "\n",
    "> 넘파이의 ndarray 내의 일부 데이터 세트나 특정 데이터만을 선택할 수 있도록 하는 인덱싱에 대해 알아보겠습니다.\n",
    "\n",
    "> 1. 특정한 데이터만 추출: 원하는 위치의 인덱스 값을 지정하면 해당 위치의 데이터가 반환됩니다.\n",
    "> 2. 슬라이싱(Slicing): 슬라이싱은 연속된 인덱스 상의 ndarray를 추출하는 방식입니다. ':' 기호 사이에 시작 인덱스와 종료 인덱스를 표시하면 시작 인덱스에서 종료 인덱스 -1 위치에 있는 데이터의 ndarray를 반환합니다. 예를 들어 1:5라고 한다면 시작 인덱스 1과 종료인덱스 4까지 해당하는 ndarray를 반환합니다.\n",
    "> 3. 팬시 인덱싱(Fancy Indexing): 일정한 인덱싱 집합을 리스트 또는 ndarray 형태로 지정해 해당 위치에 있는 데이터의 ndarray를 반환합니다.\n",
    "> 4. 불린 인덱싱(Boolean indexing): 특정 조건에 해당하는지 여부인 True/False 값 인덱싱 집합을 기반으로 True 에 해당하는 인덱스 위치에 있는 데이터의 ndarray를 반환합니다.\n",
    "\n"
   ]
  },
  {
   "cell_type": "markdown",
   "metadata": {},
   "source": [
    "#### 단일 값 추출\n",
    "\n",
    "1개의 데이터 값을 선택하려면 ndarray 객체에 해당하는 위치의 인덱스 값을 []안에 입력하면 됩니다."
   ]
  },
  {
   "cell_type": "code",
   "execution_count": 7,
   "metadata": {},
   "outputs": [
    {
     "name": "stdout",
     "output_type": "stream",
     "text": [
      "array1:  [1 2 3 4 5 6 7 8 9]\n",
      "array1[2]:  3\n"
     ]
    }
   ],
   "source": [
    "# 1부터 9까지의 1차원 ndarray 생성\n",
    "array1 = np.arange(start=1, stop=10)\n",
    "print('array1: ', array1)\n",
    "\n",
    "# index는 0부터 시작하므로 array1[2]는 3번째 index 위치의 데이터 값을 의미\n",
    "print('array1[2]: ',array1[2])"
   ]
  },
  {
   "cell_type": "markdown",
   "metadata": {},
   "source": [
    "#### 슬라이싱\n",
    "':' 기호를 이용해 연속한 데이터를 슬라이싱해서 추출할 수 있습니다. 단일 데이터값 추출을 제외하고 슬라이싱, 팬시 인덱싱, 불린 인덱싱으로 추출된 데이터 세트는 모두 ndarray타입입니다.  \n"
   ]
  },
  {
   "cell_type": "code",
   "execution_count": 8,
   "metadata": {},
   "outputs": [
    {
     "name": "stdout",
     "output_type": "stream",
     "text": [
      "[1 2 3]\n",
      "<class 'numpy.ndarray'>\n"
     ]
    }
   ],
   "source": [
    "array1 = np.arange(start=1, stop=10)\n",
    "array3 = array1[0:3]\n",
    "print(array3)\n",
    "print(type(array3))"
   ]
  },
  {
   "cell_type": "markdown",
   "metadata": {},
   "source": [
    "슬라이싱 기호인 ':' 사이의 시작, 종료 인덱스는 생략이 가능합니다.  \n",
    "\n",
    "1. 시작 인덱스를 생략한 경우 자동으로 처음 인덱스 0으로 간주합니다.   \n",
    "2. 종료 인덱스를 생략한 경우 자동으로 맨 마지막 인덱스로 간주합니다.  \n",
    "3. 시작, 종료 인덱스를 생략하면 자동으로 맨 처음과 맨 마지막 인덱스로 간주합니다."
   ]
  },
  {
   "cell_type": "code",
   "execution_count": 9,
   "metadata": {},
   "outputs": [
    {
     "name": "stdout",
     "output_type": "stream",
     "text": [
      "[1 2 3]\n",
      "[4 5 6 7 8 9]\n",
      "[1 2 3 4 5 6 7 8 9]\n"
     ]
    }
   ],
   "source": [
    "array1 = np.arange(start=1, stop=10)\n",
    "array4 = array1[:3]\n",
    "print(array4)\n",
    "\n",
    "array5 = array1[3:]\n",
    "print(array5)\n",
    "\n",
    "array6 = array1[:]\n",
    "print(array6)"
   ]
  },
  {
   "cell_type": "markdown",
   "metadata": {},
   "source": [
    "2차원  ndarray에서의 슬라이싱도 1차원 ndarray에서의 슬라이싱과 유사하며, 단지 콤마(,)로 행(row)와 열(column) 인덱스를 지칭하는 부분만 다릅니다.  "
   ]
  },
  {
   "cell_type": "code",
   "execution_count": 10,
   "metadata": {},
   "outputs": [
    {
     "name": "stdout",
     "output_type": "stream",
     "text": [
      "array2d:\n",
      " [[1 2 3]\n",
      " [4 5 6]\n",
      " [7 8 9]]\n",
      "array2d[0:2,0:2]:\n",
      " [[1 2]\n",
      " [4 5]]\n",
      "array2d[1:3,0:3]:\n",
      " [[4 5 6]\n",
      " [7 8 9]]\n",
      "array2d[1:3,:]:\n",
      " [[4 5 6]\n",
      " [7 8 9]]\n",
      "array2d[:,:]:\n",
      " [[1 2 3]\n",
      " [4 5 6]\n",
      " [7 8 9]]\n",
      "array2d[:2,1:]:\n",
      " [[2 3]\n",
      " [5 6]]\n",
      "array2d[:2,0]:\n",
      " [1 4]\n"
     ]
    }
   ],
   "source": [
    "array1d = np.arange(start=1, stop=10)\n",
    "array2d = array1d.reshape(3,3)\n",
    "print('array2d:\\n',array2d)\n",
    "\n",
    "print('array2d[0:2,0:2]:\\n',array2d[0:2,0:2])\n",
    "print('array2d[1:3,0:3]:\\n',array2d[1:3,0:3])\n",
    "print('array2d[1:3,:]:\\n',array2d[1:3,:])\n",
    "print('array2d[:,:]:\\n',array2d[:,:])\n",
    "print('array2d[:2,1:]:\\n',array2d[:2,1:])\n",
    "print('array2d[:2,0]:\\n',array2d[:2,0])"
   ]
  },
  {
   "cell_type": "markdown",
   "metadata": {},
   "source": [
    "#### 팬시 인덱싱\n",
    "\n",
    "팬시 인덱싱(Fancy Indexing)은 리스트나 ndarray로 인덱스 집합을 지정하면 해당 위치의 인덱스에 해당하는 ndarray를 반환하는 인덱싱 방식이빈다.  \n",
    "2차원 ndarray에 팬시 인덱싱을 적용하면서 이 기능이 어떻게 동작하는지 살펴보겠습니다."
   ]
  },
  {
   "cell_type": "code",
   "execution_count": 11,
   "metadata": {},
   "outputs": [
    {
     "name": "stdout",
     "output_type": "stream",
     "text": [
      "array2d[[0,1],2] => [3, 6]\n",
      "array2d[[0,1],0:2] => [[1, 2], [4, 5]]\n",
      "array2d[0,1] =>  [[1, 2, 3], [4, 5, 6]]\n"
     ]
    }
   ],
   "source": [
    "array1d = np.arange(start=1, stop=10)\n",
    "array2d = array1d.reshape(3,3)\n",
    "\n",
    "array3 = array2d[[0,1],2]\n",
    "print('array2d[[0,1],2] =>', array3.tolist())\n",
    "\n",
    "array4 = array2d[[0,1],0:2]\n",
    "print('array2d[[0,1],0:2] =>', array4.tolist())\n",
    "\n",
    "array5 = array2d[[0,1]]\n",
    "print('array2d[0,1] => ', array5.tolist())"
   ]
  },
  {
   "cell_type": "markdown",
   "metadata": {},
   "source": [
    "#### 불린 인덱싱\n",
    "\n",
    "불린 인덱싱(Boolean indexing)은 조건 필터링과 검색을 동시에 할 수 있기 때문에 매우 자주 사용되는 인덱싱 방식입니다.  \n",
    "불린 인덱싱을 사용하면 for loop/ if else문보다 훨씬 간단하게 구현이 가능합니다."
   ]
  },
  {
   "cell_type": "code",
   "execution_count": 12,
   "metadata": {},
   "outputs": [
    {
     "name": "stdout",
     "output_type": "stream",
     "text": [
      "array1d > 5 Boolean indexing result:  [3 6]\n"
     ]
    }
   ],
   "source": [
    "array1d = np.arange(start=1, stop=10)\n",
    "# [] 안에 array1d >5 Boolean idnexing 을 적용\n",
    "array3d = array1d[array1d>5]\n",
    "print('array1d > 5 Boolean indexing result: ', array3)"
   ]
  },
  {
   "cell_type": "markdown",
   "metadata": {},
   "source": [
    "어떻게 조건 필터링이 간단하게 될 수 있는 지 확인하겠습니다."
   ]
  },
  {
   "cell_type": "code",
   "execution_count": 13,
   "metadata": {},
   "outputs": [
    {
     "data": {
      "text/plain": [
       "array([False, False, False, False, False,  True,  True,  True,  True])"
      ]
     },
     "execution_count": 13,
     "metadata": {},
     "output_type": "execute_result"
    }
   ],
   "source": [
    "array1d > 5"
   ]
  },
  {
   "cell_type": "code",
   "execution_count": 14,
   "metadata": {},
   "outputs": [
    {
     "name": "stdout",
     "output_type": "stream",
     "text": [
      "Boolean indexing filtering results:  [6 7 8 9]\n"
     ]
    }
   ],
   "source": [
    "boolean_indexes = np.array([False, False, False, False, False, True, True, True, True])\n",
    "array3 = array1d[boolean_indexes]\n",
    "print('Boolean indexing filtering results: ', array3)"
   ]
  },
  {
   "cell_type": "code",
   "execution_count": 15,
   "metadata": {},
   "outputs": [
    {
     "name": "stdout",
     "output_type": "stream",
     "text": [
      "일반 인덱스로 필터링 결과: [6 7 8 9]\n"
     ]
    }
   ],
   "source": [
    "# 위의 결과와 동일한 결과 출력하기\n",
    "indexes = np.array([5,6,7,8])\n",
    "array4 = array1d[indexes]\n",
    "print('일반 인덱스로 필터링 결과:',array4)"
   ]
  },
  {
   "cell_type": "markdown",
   "metadata": {},
   "source": [
    "## ndarray를 편리하게 생성하기 - arange, zeros, ones\n",
    "  \n",
    "> 특정 크기와 차원을 가진 ndarray를 연속값이나 0 또는 1로 초기화해 쉽게 생성해야 할 필요가 있는 경우가 발생할 수 있습니다. 이 경우 arange(), zeros(), ones()를 이용해 쉽게 ndarray를 생성할 수 있습니다.  \n",
    ">\n",
    "> 주로 테스트용으로 데이터를 만들거나 대규모의 데이터를 일괄적으로 초기화해야 할 경우에 사용됩니다."
   ]
  },
  {
   "cell_type": "markdown",
   "metadata": {},
   "source": [
    "arange()는 함수 이름에서 알 수 있듯이 파이썬 표준 함수인 range()와 유사한 기능을 합니다. 쉽게 생각하면 array를 range()로 표현하는 것입니다. 0 부터 '함수 인자 값 -1' 까지의 값을 순차적으로 ndarray의 데이터값을 변환해 줍니다."
   ]
  },
  {
   "cell_type": "code",
   "execution_count": 16,
   "metadata": {},
   "outputs": [
    {
     "name": "stdout",
     "output_type": "stream",
     "text": [
      "[0 1 2 3 4 5 6 7 8 9]\n",
      "int64 (10,)\n"
     ]
    }
   ],
   "source": [
    "sequence_array = np.arange(10)\n",
    "print(sequence_array)\n",
    "print(sequence_array.dtype, sequence_array.shape)"
   ]
  },
  {
   "cell_type": "markdown",
   "metadata": {},
   "source": [
    "여기서는 stop 값만 부여했으나 range와 유사하게 start 값도 부여해 0이 아닌 다른 값부터 시작한 연속 값을 부여할 수도 있습니다.  \n",
    "  \n",
    "zeros()는 함수 인자로 튜플 형태의 shape값을 입력하면 모든 값을 0으로 채운 해당 shape를 가진 ndarray를 반환합니다. 유사하게 ones()는 함수 인자로 튜플 형태의 shape 값을 입력하면 모든 값을 1로 채운 해당 shape를 가진 ndarray를 반환합니다. 함수 인자로 dtype을 정해주지 않으면 default로 float64 형의 데이터로 ndarray를 채웁니다."
   ]
  },
  {
   "cell_type": "code",
   "execution_count": 17,
   "metadata": {},
   "outputs": [
    {
     "name": "stdout",
     "output_type": "stream",
     "text": [
      "[[0 0]\n",
      " [0 0]\n",
      " [0 0]]\n",
      "int32 (3, 2)\n",
      "[[1. 1.]\n",
      " [1. 1.]\n",
      " [1. 1.]]\n",
      "float64 (3, 2)\n"
     ]
    }
   ],
   "source": [
    "zero_array = np.zeros((3,2),dtype='int32')\n",
    "print(zero_array)\n",
    "print(zero_array.dtype, zero_array.shape)\n",
    "\n",
    "one_array = np.ones((3,2))\n",
    "print(one_array)\n",
    "print(one_array.dtype, one_array.shape)"
   ]
  },
  {
   "cell_type": "markdown",
   "metadata": {},
   "source": [
    "### ndarray의 차원과 크기를 변경하는 reshape()\n",
    "reshape() 매서드는 ndarray를 특정 차원 및 크기로 변환합니다. 변환을 원하는 크기를 함수 인자로 부여하면 됩니다."
   ]
  },
  {
   "cell_type": "code",
   "execution_count": 18,
   "metadata": {},
   "outputs": [
    {
     "name": "stdout",
     "output_type": "stream",
     "text": [
      "array1:\n",
      " [0 1 2 3 4 5 6 7 8 9]\n",
      "array2:\n",
      " [[0 1 2 3 4]\n",
      " [5 6 7 8 9]]\n",
      "array3:\n",
      " [[0 1]\n",
      " [2 3]\n",
      " [4 5]\n",
      " [6 7]\n",
      " [8 9]]\n"
     ]
    }
   ],
   "source": [
    "array1= np.arange(10)\n",
    "print('array1:\\n',array1)\n",
    "\n",
    "array2 = array1.reshape(2,5)\n",
    "print('array2:\\n',array2)\n",
    "\n",
    "array3 = array1.reshape(5,2)\n",
    "print('array3:\\n',array3)"
   ]
  },
  {
   "cell_type": "markdown",
   "metadata": {},
   "source": [
    "reshape()는 지정된 사이즈로 변경이 불가능하면 오류를 발생합니다. 가령(10,) 데이터를 (4,3) shape 형태로 변경할 수는 없습니다."
   ]
  },
  {
   "cell_type": "markdown",
   "metadata": {},
   "source": [
    "reshape()를 실전에서 더욱 효율적으로 사용하는 경우는 아마도 인자로 -1을 적용하는 경우일 것입니다. -1을 인자로 사용하면 원래 ndarray와 호환되는 새로운 shape로 변환해 줍니다."
   ]
  },
  {
   "cell_type": "code",
   "execution_count": 19,
   "metadata": {},
   "outputs": [
    {
     "name": "stdout",
     "output_type": "stream",
     "text": [
      "[0 1 2 3 4 5 6 7 8 9]\n",
      "array2 shape: (2, 5)\n",
      "array3 shape: (5, 2)\n"
     ]
    }
   ],
   "source": [
    "array1 = np.arange(10)\n",
    "print(array1)\n",
    "array2 = array1.reshape(-1,5)\n",
    "print('array2 shape:', array2.shape)\n",
    "array3 = array1.reshape(5,-1)\n",
    "print('array3 shape:', array3.shape)"
   ]
  },
  {
   "cell_type": "markdown",
   "metadata": {},
   "source": [
    "물론 -1을 사용하더라도 호환될 수 없는 형태는 변환할 수 없습니다.  \n",
    "  \n",
    "-1 인자는 reshape(-1,1)와 같은 형태로 자주 사용됩니다. reshape(-1,1)은 원본 ndarray가 어떤 형태라도 2차원이고, 여러개의 로우를 가지되 반드시 1개의 칼럼을 가진 ndarray로 변환됨을 보장합니다."
   ]
  },
  {
   "cell_type": "code",
   "execution_count": 20,
   "metadata": {},
   "outputs": [
    {
     "name": "stdout",
     "output_type": "stream",
     "text": [
      "array3d: \n",
      " [[[0, 1], [2, 3]], [[4, 5], [6, 7]]]\n",
      "array5: \n",
      " [[0], [1], [2], [3], [4], [5], [6], [7]]\n",
      "array5 shape:  (8, 1)\n",
      "array6:\n",
      " [[0], [1], [2], [3], [4], [5], [6], [7]]\n",
      "array6 shape: (8, 1)\n"
     ]
    }
   ],
   "source": [
    "array1 = np.arange(8)\n",
    "array3d = array1.reshape((2,2,2))\n",
    "print('array3d: \\n',array3d.tolist())\n",
    "\n",
    "#3차원 ndarray를 2차원 ndarray로 변환\n",
    "array5 = array3d.reshape(-1,1)\n",
    "print('array5: \\n',array5.tolist())\n",
    "print('array5 shape: ',array5.shape)\n",
    "\n",
    "# 1차원 ndarray를 2차원 ndarray로 변환\n",
    "array6 = array1.reshape(-1,1)\n",
    "print('array6:\\n',array6.tolist())\n",
    "print('array6 shape:', array6.shape)"
   ]
  },
  {
   "cell_type": "markdown",
   "metadata": {},
   "source": [
    "## array 연산\n",
    "- array 연산 역시 MATLAB, R과 매우 유사합니다.\n",
    "- +, -, /, //, %, ** 등 기본적인 파이썬의 연산자는 그대로 적용 가능합니다.\n",
    "- numpy 자체에서 abs, sign, sqrt, log, log10, exp, sin, cos, tan, floor(내림), ceil(올림), rint(반올림) 등의 함수를 제공합니다."
   ]
  },
  {
   "cell_type": "code",
   "execution_count": 21,
   "metadata": {},
   "outputs": [
    {
     "data": {
      "text/plain": [
       "array([6, 8])"
      ]
     },
     "execution_count": 21,
     "metadata": {},
     "output_type": "execute_result"
    }
   ],
   "source": [
    "a = np.array([1, 2])\n",
    "b = np.array([5, 6])\n",
    "\n",
    "a + b"
   ]
  },
  {
   "cell_type": "code",
   "execution_count": 22,
   "metadata": {
    "scrolled": false
   },
   "outputs": [
    {
     "name": "stdout",
     "output_type": "stream",
     "text": [
      "[3 7 9]\n",
      "[-1 -3 -3]\n",
      "[0.5 0.4 0.5]\n",
      "[2.  2.5 2. ]\n",
      "[2 2 2]\n",
      "[0 1 0]\n",
      "[  1  32 729]\n"
     ]
    }
   ],
   "source": [
    "# Python의 기본 연산자에 대해서 우리가 생각하는대로 결과가 나옵니다.\n",
    "a = np.array([1,2,3])\n",
    "b = np.array([2,5,6])\n",
    "\n",
    "print(a + b)\n",
    "print(a - b)\n",
    "print(a / b)\n",
    "print(b / a)\n",
    "print(b // a)\n",
    "print(b % a)\n",
    "print(a ** b)"
   ]
  },
  {
   "cell_type": "code",
   "execution_count": 41,
   "metadata": {},
   "outputs": [
    {
     "name": "stdout",
     "output_type": "stream",
     "text": [
      "[ 2 10 18]\n",
      "30\n"
     ]
    }
   ],
   "source": [
    "# 곱하기 연산에 대한 결과는 어떻게 나오는지 확인해보겠습니다.\n",
    "\n",
    "a = np.array([1,2,3])\n",
    "b = np.array([2,5,6])\n",
    "print(a*b)\n",
    "\n",
    "# 우리가 기존에 알고있는 행렬 곱 연산으로 결과를 출력하고 싶은 경우 np.dot 함수를 사용할 수 있습니다.\n",
    "print(np.dot(a,b))"
   ]
  },
  {
   "cell_type": "code",
   "execution_count": 43,
   "metadata": {
    "scrolled": false
   },
   "outputs": [
    {
     "name": "stdout",
     "output_type": "stream",
     "text": [
      "[[ 3  6  9]\n",
      " [10 13 16]]\n",
      "[[-1 -2 -3]\n",
      " [-2 -3 -4]]\n",
      "[[0.5        0.5        0.5       ]\n",
      " [0.66666667 0.625      0.6       ]]\n",
      "[[2.         2.         2.        ]\n",
      " [1.5        1.6        1.66666667]]\n",
      "[[2 2 2]\n",
      " [1 1 1]]\n",
      "[[0 0 0]\n",
      " [2 3 4]]\n",
      "[[       1       16      729]\n",
      " [    4096   390625 60466176]]\n"
     ]
    }
   ],
   "source": [
    "a = np.array([[1,2,3],[4,5,6]])\n",
    "b = np.array([[2,4,6],[6,8,10]])\n",
    "\n",
    "print(a + b)\n",
    "print(a - b)\n",
    "print(a / b)\n",
    "print(b / a)\n",
    "print(b // a)\n",
    "print(b % a)\n",
    "print(a ** b)"
   ]
  },
  {
   "cell_type": "code",
   "execution_count": 49,
   "metadata": {
    "scrolled": false
   },
   "outputs": [
    {
     "name": "stdout",
     "output_type": "stream",
     "text": [
      "[[ 2  8 18]\n",
      " [24 40 60]]\n",
      "[[ 28  52]\n",
      " [ 64 124]]\n",
      "[[26 36 46]\n",
      " [34 48 62]\n",
      " [42 60 78]]\n"
     ]
    }
   ],
   "source": [
    "a = np.array([[1,2,3],[4,5,6]])\n",
    "b = np.array([[2,4,6],[6,8,10]])\n",
    "\n",
    "print(a*b)\n",
    "\n",
    "# 행렬의 곱으로 연산이 가능한지 확인해보겠습니다.\n",
    "#print(np.dot(a,b))\n",
    "# a: 2*3 , b : 2*3 이므로 행렬곱 연산이 불가함을 알 수 있다.\n",
    "\n",
    "# 행렬 곱을 연산하기 위해 transpose 한 후 다시 한번 행렬 곱을 구해 보겠습니다.\n",
    "print(np.dot(a,np.transpose(b)))\n",
    "print(np.dot(np.transpose(a),b))"
   ]
  },
  {
   "cell_type": "code",
   "execution_count": 53,
   "metadata": {
    "scrolled": false
   },
   "outputs": [
    {
     "name": "stdout",
     "output_type": "stream",
     "text": [
      "[[ 3  6  9]\n",
      " [10 13 16]]\n",
      "[[-1 -2 -3]\n",
      " [-2 -3 -4]]\n",
      "[[0.5        0.5        0.5       ]\n",
      " [0.66666667 0.625      0.6       ]]\n",
      "[[2.         2.         2.        ]\n",
      " [1.5        1.6        1.66666667]]\n",
      "[[2 2 2]\n",
      " [1 1 1]]\n",
      "[[0 0 0]\n",
      " [2 3 4]]\n",
      "[[ 2  8 18]\n",
      " [24 40 60]]\n",
      "[[ 28  52]\n",
      " [ 64 124]]\n",
      "[[       1       16      729]\n",
      " [    4096   390625 60466176]]\n"
     ]
    }
   ],
   "source": [
    "a = np.array([[1,2,3],[4,5,6]])\n",
    "b = np.array([[2,4,6],[6,8,10]])\n",
    "\n",
    "print(a + b)\n",
    "print(a - b)\n",
    "print(a / b)\n",
    "print(b / a)\n",
    "print(b // a)\n",
    "print(b % a)\n",
    "print(a*b)\n",
    "print(np.dot(a,np.transpose(b)))\n",
    "print(a ** b)"
   ]
  },
  {
   "cell_type": "code",
   "execution_count": 25,
   "metadata": {
    "scrolled": false
   },
   "outputs": [
    {
     "ename": "ValueError",
     "evalue": "operands could not be broadcast together with shapes (3,) (2,) ",
     "output_type": "error",
     "traceback": [
      "\u001b[0;31m---------------------------------------------------------------------------\u001b[0m",
      "\u001b[0;31mValueError\u001b[0m                                Traceback (most recent call last)",
      "\u001b[0;32m<ipython-input-25-689551eceeb9>\u001b[0m in \u001b[0;36m<module>\u001b[0;34m()\u001b[0m\n\u001b[1;32m      3\u001b[0m \u001b[0mb\u001b[0m \u001b[0;34m=\u001b[0m \u001b[0mnp\u001b[0m\u001b[0;34m.\u001b[0m\u001b[0marray\u001b[0m\u001b[0;34m(\u001b[0m\u001b[0;34m[\u001b[0m\u001b[0;36m3\u001b[0m\u001b[0;34m,\u001b[0m\u001b[0;36m4\u001b[0m\u001b[0;34m]\u001b[0m\u001b[0;34m)\u001b[0m\u001b[0;34m\u001b[0m\u001b[0;34m\u001b[0m\u001b[0m\n\u001b[1;32m      4\u001b[0m \u001b[0;34m\u001b[0m\u001b[0m\n\u001b[0;32m----> 5\u001b[0;31m \u001b[0mprint\u001b[0m\u001b[0;34m(\u001b[0m\u001b[0ma\u001b[0m \u001b[0;34m+\u001b[0m \u001b[0mb\u001b[0m\u001b[0;34m)\u001b[0m\u001b[0;34m\u001b[0m\u001b[0;34m\u001b[0m\u001b[0m\n\u001b[0m",
      "\u001b[0;31mValueError\u001b[0m: operands could not be broadcast together with shapes (3,) (2,) "
     ]
    }
   ],
   "source": [
    "# array들의 차원의 사이즈가 다르면, 에러메시지가 나타납니다.\n",
    "a = np.array([1,2,3])\n",
    "b = np.array([3,4])\n",
    "\n",
    "print(a + b)"
   ]
  },
  {
   "cell_type": "code",
   "execution_count": 26,
   "metadata": {
    "scrolled": true
   },
   "outputs": [
    {
     "name": "stdout",
     "output_type": "stream",
     "text": [
      "[[1 2]\n",
      " [3 4]\n",
      " [5 6]]\n",
      "[0.1 0.2]\n",
      "[[1.1 2.2]\n",
      " [3.1 4.2]\n",
      " [5.1 6.2]]\n"
     ]
    }
   ],
   "source": [
    "# 그러나 다차원의 배열과 일차원의 배열을 더하는 경우,\n",
    "# numpy에서 (알아서) 차원을 맞춰서 더하게 됩니다.\n",
    "# Numpy의 공식 문서에서는 이를 \"broadcasting\"한다고 표현하고 있습니다.\n",
    "a = np.array([[1,2],[3,4],[5,6]])\n",
    "b = np.array([0.1, 0.2])\n",
    "print(a)\n",
    "print(b)\n",
    "print(a + b)"
   ]
  },
  {
   "cell_type": "code",
   "execution_count": 27,
   "metadata": {
    "scrolled": true
   },
   "outputs": [
    {
     "name": "stdout",
     "output_type": "stream",
     "text": [
      "[[0. 0.]\n",
      " [0. 0.]]\n",
      "[2 3]\n",
      "[[2. 3.]\n",
      " [2. 3.]]\n",
      "[[2. 3.]\n",
      " [2. 3.]]\n",
      "[[2. 2.]\n",
      " [3. 3.]]\n"
     ]
    }
   ],
   "source": [
    "# 2 by 2 행렬에 2 by 1의 벡터를 연산하는 경우\n",
    "a = np.zeros((2,2)) # 모든 성분이 0이고 크기가 2 by 2인 행렬을 생성\n",
    "b = np.array([2,3])\n",
    "print(a)\n",
    "print(b)\n",
    "print(a + b)\n",
    "\n",
    "# Numpy의 newaxis라는 함수를 이용하여, b를 어떤 방향으로 더할지 정의할 수 있습니다.\n",
    "print(a + b[np.newaxis,:]) # b를 a의 행에 각각 더할 때,\n",
    "print(a + b[:,np.newaxis]) # b를 a의 열에 각각 더할 때,"
   ]
  },
  {
   "cell_type": "code",
   "execution_count": 28,
   "metadata": {
    "scrolled": false
   },
   "outputs": [
    {
     "name": "stdout",
     "output_type": "stream",
     "text": [
      "[-1  2  3 -4]\n",
      "[1 2 3 4]\n",
      "[1 4 9]\n",
      "[1. 2. 3.]\n",
      "[2.71828183 1.         2.        ]\n",
      "[1.         0.         0.69314718]\n",
      "[1. 1. 1.]\n",
      "[2. 2. 2.]\n",
      "[1. 2. 2.]\n"
     ]
    }
   ],
   "source": [
    "# 각종 유용한 함수\n",
    "a = np.array([-1,2,3,-4])\n",
    "print(a)\n",
    "a = np.abs(a)\n",
    "print(a)\n",
    "\n",
    "b = np.array([1,4,9])\n",
    "print(b)\n",
    "b = np.sqrt(b)\n",
    "print(b)\n",
    "\n",
    "import math # math 패키지로부터 자연상수 e를 호출하기 위함\n",
    "c = np.array([math.e, 1, 2])\n",
    "print(c)\n",
    "c = np.log(c)\n",
    "print(c)\n",
    "\n",
    "d = np.array([1.1, 1.5, 1.9])\n",
    "print(np.floor(d)) # 내림\n",
    "print(np.ceil(d)) # 올림\n",
    "print(np.rint(d)) # 반올림"
   ]
  },
  {
   "cell_type": "markdown",
   "metadata": {},
   "source": [
    "## array iteration"
   ]
  },
  {
   "cell_type": "code",
   "execution_count": 29,
   "metadata": {},
   "outputs": [
    {
     "name": "stdout",
     "output_type": "stream",
     "text": [
      "1\n",
      "2\n",
      "3\n",
      "[1 2]\n",
      "[3 4]\n",
      "[5 6]\n",
      "2\n",
      "12\n",
      "30\n"
     ]
    }
   ],
   "source": [
    "a = np.array([1,2,3])\n",
    "for x in a:\n",
    "    print(x)\n",
    "\n",
    "b = np.array([[1,2],[3,4],[5,6]])\n",
    "for x in b:\n",
    "    print(x)\n",
    "for (x,y) in b:\n",
    "    print(x * y)"
   ]
  },
  {
   "cell_type": "markdown",
   "metadata": {},
   "source": [
    "<br>"
   ]
  },
  {
   "cell_type": "markdown",
   "metadata": {},
   "source": [
    "## 행렬의 정렬 - sort()와 argsort()\n",
    "\n",
    "넘파이에서 행렬을 정렬하는 대표적인 방법인 np.sort()와 ndarray.sort(), 그리고 정렬된 행렬의 인덱스를 반환하는 argsort()에 대해서 알아보겠습니다."
   ]
  },
  {
   "cell_type": "markdown",
   "metadata": {},
   "source": [
    "### 행렬 정렬\n",
    "\n",
    "넘파이의 행렬 정렬은 np.sort()와 같이 넘파이에서 sort()를 호출하는 방식과 ndarray.sort()와 같이 행렬 자체에서 sort()를 호출하는 방식이 있습니다.  \n",
    "두 방식의 차이는 np.sort()의 경우 기존 행렬은 그대로 유지한 채 기존 행렬의 정렬된 행렬을 반환하며, ndarray.sort()는 기존 행렬 자체를 정렬한 형태로 변환하며 변환 값은 None입니다."
   ]
  },
  {
   "cell_type": "code",
   "execution_count": 30,
   "metadata": {},
   "outputs": [
    {
     "name": "stdout",
     "output_type": "stream",
     "text": [
      "원본 행렬: [20  1  8 13]\n",
      "np.sort() 호출 후 반환된 정렬 행렬: [ 1  8 13 20]\n",
      "np.sort() 호출 후 원본 행렬 :  [20  1  8 13]\n",
      "org_array.sort() 호출 후 반환된 행렬: None\n",
      "org_array.sort() 호출 후 원본 행렬:  [ 1  8 13 20]\n"
     ]
    }
   ],
   "source": [
    "org_array = np.array([20,1,8,13])\n",
    "print('원본 행렬:',org_array)\n",
    "\n",
    "#np.sort()로 정렬\n",
    "sort_array1 = np.sort(org_array)\n",
    "print('np.sort() 호출 후 반환된 정렬 행렬:', sort_array1)\n",
    "print('np.sort() 호출 후 원본 행렬 : ',org_array)\n",
    "\n",
    "#ndarray.sort()로 정렬\n",
    "sort_array2 = org_array.sort()\n",
    "print('org_array.sort() 호출 후 반환된 행렬:',sort_array2)\n",
    "print('org_array.sort() 호출 후 원본 행렬: ',org_array)"
   ]
  },
  {
   "cell_type": "markdown",
   "metadata": {},
   "source": [
    "np.sort()나 ndarray.sort()모두 기본적으로 오름차순으로 행렬 내 원소를 정렬합니다. 내림차순으로 정렬하기 위해서는 [::-1] 을 적용합니다. np.sort()[::-1]과 같이 사용하면 됩니다."
   ]
  },
  {
   "cell_type": "code",
   "execution_count": 31,
   "metadata": {},
   "outputs": [
    {
     "name": "stdout",
     "output_type": "stream",
     "text": [
      "내림차순으로 정렬: [20 13  8  1]\n"
     ]
    }
   ],
   "source": [
    "sort_array1_desc=np.sort(org_array)[::-1]\n",
    "print('내림차순으로 정렬:',sort_array1_desc)"
   ]
  },
  {
   "cell_type": "markdown",
   "metadata": {},
   "source": [
    "행렬이 2차원 이상일 경우에 axis 축 값 설정을 통해 로우 방향, 또는 칼럼 방향으로 정렬을 수행할 수 있습니다."
   ]
  },
  {
   "cell_type": "code",
   "execution_count": 32,
   "metadata": {},
   "outputs": [
    {
     "name": "stdout",
     "output_type": "stream",
     "text": [
      "row 방향(세로)으로 정렬:\n",
      " [[ 7  1]\n",
      " [ 8 11]]\n",
      "column 방향(가로)으로 정렬: \n",
      " [[ 8 11]\n",
      " [ 1  7]]\n"
     ]
    }
   ],
   "source": [
    "array2d = np.array([[8,11],\n",
    "                  [7,1]])\n",
    "\n",
    "sort_array2d_axis0 = np.sort(array2d,axis=0)\n",
    "print('row 방향(세로)으로 정렬:\\n',sort_array2d_axis0)\n",
    "\n",
    "sort_array2d_axis1 = np.sort(array2d, axis=1)\n",
    "print('column 방향(가로)으로 정렬: \\n',sort_array2d_axis1)"
   ]
  },
  {
   "cell_type": "markdown",
   "metadata": {},
   "source": [
    "## 합, 곱, 최소값, 최대값 등"
   ]
  },
  {
   "cell_type": "code",
   "execution_count": 33,
   "metadata": {},
   "outputs": [
    {
     "name": "stdout",
     "output_type": "stream",
     "text": [
      "sum\n",
      "15\n",
      "15\n",
      "production\n",
      "120\n",
      "120\n",
      "min value and its index\n",
      "1\n",
      "0\n",
      "max value and its index\n",
      "5\n",
      "4\n",
      "mean\n",
      "3.0\n",
      "standard deviation\n",
      "1.4142135623730951\n"
     ]
    }
   ],
   "source": [
    "a = np.array([1,2,3,4,5])\n",
    "# 합\n",
    "print('sum')\n",
    "print(a.sum())\n",
    "print(np.sum(a))\n",
    "# 곱\n",
    "print('production')\n",
    "print(a.prod())\n",
    "print(np.prod(a))\n",
    "# 최소값과 그의 index\n",
    "print('min value and its index')\n",
    "print(a.min())\n",
    "print(a.argmin())\n",
    "# 최대값과 그의 index\n",
    "print('max value and its index')\n",
    "print(a.max())\n",
    "print(a.argmax())\n",
    "# 평균과 표준편차\n",
    "print('mean')\n",
    "print(a.mean())\n",
    "print('standard deviation')\n",
    "print(a.std())"
   ]
  },
  {
   "cell_type": "markdown",
   "metadata": {},
   "source": [
    "## Matrix transpose"
   ]
  },
  {
   "cell_type": "code",
   "execution_count": 34,
   "metadata": {},
   "outputs": [],
   "source": [
    "import numpy as np"
   ]
  },
  {
   "cell_type": "code",
   "execution_count": 35,
   "metadata": {
    "scrolled": true
   },
   "outputs": [
    {
     "name": "stdout",
     "output_type": "stream",
     "text": [
      "[[1 2]\n",
      " [3 4]\n",
      " [5 6]]\n"
     ]
    }
   ],
   "source": [
    "a = np.array([[1,2],[3,4],[5,6]])\n",
    "print(a)"
   ]
  },
  {
   "cell_type": "code",
   "execution_count": 36,
   "metadata": {
    "scrolled": true
   },
   "outputs": [
    {
     "name": "stdout",
     "output_type": "stream",
     "text": [
      "[[1 3 5]\n",
      " [2 4 6]]\n"
     ]
    }
   ],
   "source": [
    "a_prime = a.T\n",
    "print(a_prime)"
   ]
  },
  {
   "cell_type": "code",
   "execution_count": 37,
   "metadata": {},
   "outputs": [
    {
     "name": "stdout",
     "output_type": "stream",
     "text": [
      "[1 2 3 4]\n"
     ]
    }
   ],
   "source": [
    "# How to transpose 1-dimensional vector\n",
    "b = np.array([1,2,3,4])\n",
    "print(b)"
   ]
  },
  {
   "cell_type": "code",
   "execution_count": 38,
   "metadata": {},
   "outputs": [
    {
     "name": "stdout",
     "output_type": "stream",
     "text": [
      "[1 2 3 4]\n"
     ]
    }
   ],
   "source": [
    "# Transpose가 먹히지 않는다.\n",
    "print(b.T)"
   ]
  },
  {
   "cell_type": "code",
   "execution_count": 39,
   "metadata": {},
   "outputs": [
    {
     "name": "stdout",
     "output_type": "stream",
     "text": [
      "[[1]\n",
      " [2]\n",
      " [3]\n",
      " [4]]\n",
      "(4,)  ==>  (4, 1)\n"
     ]
    }
   ],
   "source": [
    "# 만약 행 벡터를 열 벡터로 변환하고 싶다면 (약간의 꼼수)\n",
    "b_prime = b.reshape(-1,1)\n",
    "print(b_prime)\n",
    "print(b.shape, ' ==> ', b_prime.shape)"
   ]
  },
  {
   "cell_type": "markdown",
   "metadata": {},
   "source": [
    "## Numpy tutorials\n",
    "- Numpy에서 매우 많은 기능들을 제공합니다. \n",
    "- Numpy reference manual: http://docs.scipy.org/doc/numpy/reference/\n",
    "- Numpy quick-start: https://docs.scipy.org/doc/numpy-dev/user/quickstart.html\n",
    "- Stanford Univ.의 수업 내용에 있는 튜토리얼 번역: http://aikorea.org/cs231n/python-numpy-tutorial/#numpy-arrays\n",
    "- 필요한 기능이 있을 때 googling!"
   ]
  },
  {
   "cell_type": "code",
   "execution_count": null,
   "metadata": {},
   "outputs": [],
   "source": []
  }
 ],
 "metadata": {
  "kernelspec": {
   "display_name": "samsung",
   "language": "python",
   "name": "samsung"
  },
  "language_info": {
   "codemirror_mode": {
    "name": "ipython",
    "version": 3
   },
   "file_extension": ".py",
   "mimetype": "text/x-python",
   "name": "python",
   "nbconvert_exporter": "python",
   "pygments_lexer": "ipython3",
   "version": "3.6.7"
  }
 },
 "nbformat": 4,
 "nbformat_minor": 2
}
